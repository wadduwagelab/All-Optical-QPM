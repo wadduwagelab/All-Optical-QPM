{
 "cells": [
  {
   "cell_type": "code",
   "execution_count": 1,
   "metadata": {
    "id": "MZEUSQmTA6C9"
   },
   "outputs": [],
   "source": [
    "%load_ext autoreload\n",
    "%autoreload 2\n",
    "\n",
    "import sys\n",
    "sys.path.append('../../')\n",
    "\n",
    "from modules.train import train_and_log\n",
    "import wandb\n"
   ]
  },
  {
   "cell_type": "code",
   "execution_count": 2,
   "metadata": {},
   "outputs": [],
   "source": [
    "device= 'cuda:1'\n",
    "testing= False # False\n",
    "project_name= \"PhaseD2NN\"\n",
    "log_wandb = True\n",
    "\n",
    "if testing and log_wandb:project_name='testing_to_delete'\n",
    "\n",
    "epochs= 100\n",
    "save_results_local= 10"
   ]
  },
  {
   "cell_type": "code",
   "execution_count": 3,
   "metadata": {},
   "outputs": [
    {
     "name": "stderr",
     "output_type": "stream",
     "text": [
      "Failed to detect the name of this notebook, you can set it manually with the WANDB_NOTEBOOK_NAME environment variable to enable code saving.\n",
      "\u001b[34m\u001b[1mwandb\u001b[0m: Currently logged in as: \u001b[33mfypteam22\u001b[0m (use `wandb login --relogin` to force relogin)\n"
     ]
    }
   ],
   "source": [
    "if log_wandb:wandb.login()"
   ]
  },
  {
   "cell_type": "code",
   "execution_count": null,
   "metadata": {},
   "outputs": [],
   "source": [
    "if testing:\n",
    "    epochs= 1\n",
    "    save_results_local= 1\n",
    "\n",
    "for learn_type in ['both', 'phase']:\n",
    "    for output_scale_learnable in [True, False]:\n",
    "\n",
    "        configs = {\n",
    "            'output_scale': 1.0,\n",
    "            'output_scale_learnable': output_scale_learnable,\n",
    "\n",
    "            'device': 'cuda:0',\n",
    "            'model': 'd2nnASwWindow', \n",
    "\n",
    "            \"lambda_\": 6.328e-07,\n",
    "            \"delta_z\": 3.373e-06,\n",
    "            \"in_dist\": 3.373e-06,\n",
    "            \"out_dist\": 5.904e-06,\n",
    "            \"neuron_size\": 3.164e-07,    \n",
    "\n",
    "            'img_size': 128,\n",
    "            'shrink_factor': 4,\n",
    "            'n_layers': 8,\n",
    "            'window_size':4,\n",
    "            'save_results_local':save_results_local,\n",
    "\n",
    "            'learning_rate': 0.01,\n",
    "            'epochs': epochs,\n",
    "            'loss_func': 'BerHu(\\'mean\\',0.98).to(device)',\n",
    "            'train_batch_size': 32,\n",
    "            'torch_seed': 10,\n",
    "            'learn_type': learn_type, \n",
    "            'unwrapped_phase': True,\n",
    "\n",
    "            'testing': testing,\n",
    "            'log_wandb' : log_wandb,\n",
    "\n",
    "            'task_type': 'phase2intensity',\n",
    "\n",
    "            'get_dataloaders' : 'get_qpm_np_dataloaders', #'get_qpm_np_dataloaders', \n",
    "\n",
    "            'angle_max': 'np.pi', \n",
    "            'dataset_debug_opts': 'clip_phase@phase_set_pi'\n",
    "        }\n",
    "\n",
    "        configs['exp_name'] = f'd2nn_exp_NEWhela_pi@learn_type({learn_type})@output_scale_learnable({output_scale_learnable})'\n",
    "\n",
    "        print(configs['exp_name'])\n",
    "\n",
    "        if testing:\n",
    "            configs['exp_name'] = 'testing'\n",
    "            \n",
    "        if configs['log_wandb']:\n",
    "            wandb.init(\n",
    "                project='PhaseD2NN_reproduce', # Wandb project name\n",
    "                name =configs['exp_name'], # meaningful experiment name\n",
    "                config=configs,\n",
    "            )\n",
    "        train_and_log(configs)\n",
    "\n",
    "if configs['log_wandb']:wandb.finish()"
   ]
  }
 ],
 "metadata": {
  "accelerator": "GPU",
  "colab": {
   "collapsed_sections": [],
   "name": "experiments.ipynb",
   "provenance": [
    {
     "file_id": "1-1ossIcAiyAOuyQRtG3UIo85YO-l0HsT",
     "timestamp": 1629577855438
    },
    {
     "file_id": "1DNfkxnqZE1TDV10EkXclOz7JzkVrdDt-",
     "timestamp": 1629171028022
    }
   ]
  },
  "kernelspec": {
   "display_name": "FYP_d2nn",
   "language": "python",
   "name": "fyp_d2nn"
  },
  "language_info": {
   "codemirror_mode": {
    "name": "ipython",
    "version": 3
   },
   "file_extension": ".py",
   "mimetype": "text/x-python",
   "name": "python",
   "nbconvert_exporter": "python",
   "pygments_lexer": "ipython3",
   "version": "3.6.13"
  }
 },
 "nbformat": 4,
 "nbformat_minor": 4
}
