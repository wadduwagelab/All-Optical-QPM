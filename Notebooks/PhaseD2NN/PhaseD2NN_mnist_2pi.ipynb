{
 "cells": [
  {
   "cell_type": "code",
   "execution_count": 1,
   "metadata": {
    "id": "MZEUSQmTA6C9"
   },
   "outputs": [
    {
     "name": "stderr",
     "output_type": "stream",
     "text": [
      "/n/home11/hkariyawasam/.conda/envs/d2nn_fyp/lib/python3.6/site-packages/tqdm/auto.py:22: TqdmWarning: IProgress not found. Please update jupyter and ipywidgets. See https://ipywidgets.readthedocs.io/en/stable/user_install.html\n",
      "  from .autonotebook import tqdm as notebook_tqdm\n"
     ]
    }
   ],
   "source": [
    "%load_ext autoreload\n",
    "%autoreload 2\n",
    "\n",
    "import sys\n",
    "sys.path.append('../../')\n",
    "import wandb\n",
    "import os\n",
    "\n",
    "from modules.train import train_and_log"
   ]
  },
  {
   "cell_type": "code",
   "execution_count": 2,
   "metadata": {},
   "outputs": [],
   "source": [
    "device= 'cuda:0'\n",
    "testing= False\n",
    "project_name= \"PhaseD2NN\"\n",
    "log_wandb = True\n",
    "\n",
    "if testing and log_wandb:project_name='testing_to_delete'\n",
    "\n",
    "epochs= 50\n",
    "save_results_local= 10"
   ]
  },
  {
   "cell_type": "code",
   "execution_count": 3,
   "metadata": {},
   "outputs": [
    {
     "name": "stderr",
     "output_type": "stream",
     "text": [
      "Failed to detect the name of this notebook, you can set it manually with the WANDB_NOTEBOOK_NAME environment variable to enable code saving.\n",
      "\u001b[34m\u001b[1mwandb\u001b[0m: Currently logged in as: \u001b[33mfypteam22\u001b[0m. Use \u001b[1m`wandb login --relogin`\u001b[0m to force relogin\n",
      "\u001b[34m\u001b[1mwandb\u001b[0m: \u001b[33mWARNING\u001b[0m If you're specifying your api key in code, ensure this code is not shared publicly.\n",
      "\u001b[34m\u001b[1mwandb\u001b[0m: \u001b[33mWARNING\u001b[0m Consider setting the WANDB_API_KEY environment variable, or running `wandb login` from the command line.\n",
      "\u001b[34m\u001b[1mwandb\u001b[0m: Appending key for api.wandb.ai to your netrc file: /n/home11/hkariyawasam/.netrc\n"
     ]
    }
   ],
   "source": [
    "if log_wandb:wandb.login(key = os.environ.get('WANDB_API_KEY_FYP'))"
   ]
  },
  {
   "cell_type": "code",
   "execution_count": null,
   "metadata": {},
   "outputs": [
    {
     "name": "stdout",
     "output_type": "stream",
     "text": [
      "d2nn_exp_mnist_2pi_newBerhu@learn_type(phase)@output_scale_learnable(True)\n"
     ]
    },
    {
     "data": {
      "text/html": [
       "wandb version 0.14.2 is available!  To upgrade, please run:\n",
       " $ pip install wandb --upgrade"
      ],
      "text/plain": [
       "<IPython.core.display.HTML object>"
      ]
     },
     "metadata": {},
     "output_type": "display_data"
    },
    {
     "data": {
      "text/html": [
       "Tracking run with wandb version 0.13.4"
      ],
      "text/plain": [
       "<IPython.core.display.HTML object>"
      ]
     },
     "metadata": {},
     "output_type": "display_data"
    },
    {
     "data": {
      "text/html": [
       "Run data is saved locally in <code>/n/home11/hkariyawasam/fyp/All-Optical-QPM/Notebooks/PhaseD2NN/wandb/run-20230408_161919-32dsg6aq</code>"
      ],
      "text/plain": [
       "<IPython.core.display.HTML object>"
      ]
     },
     "metadata": {},
     "output_type": "display_data"
    },
    {
     "data": {
      "text/html": [
       "Syncing run <strong><a href=\"https://wandb.ai/fypteam22/PhaseD2NN_reproduce/runs/32dsg6aq\" target=\"_blank\">d2nn_exp_mnist_2pi_newBerhu@learn_type(phase)@output_scale_learnable(True)</a></strong> to <a href=\"https://wandb.ai/fypteam22/PhaseD2NN_reproduce\" target=\"_blank\">Weights & Biases</a> (<a href=\"https://wandb.me/run\" target=\"_blank\">docs</a>)<br/>"
      ],
      "text/plain": [
       "<IPython.core.display.HTML object>"
      ]
     },
     "metadata": {},
     "output_type": "display_data"
    },
    {
     "name": "stdout",
     "output_type": "stream",
     "text": [
      "No learnable transmission coefficients\n",
      "Learnable transmission coefficient: Phase only\n",
      "Learnable transmission coefficient: Phase only\n",
      "Learnable transmission coefficient: Phase only\n",
      "Learnable transmission coefficient: Phase only\n",
      "Learnable transmission coefficient: Phase only\n",
      "Learnable transmission coefficient: Phase only\n",
      "Learnable transmission coefficient: Phase only\n",
      "Learnable transmission coefficient: Phase only\n",
      "exp results dir: ../results/d2nn_exp_mnist_2pi_newBerhu@learn_type(phase)@output_scale_learnable(True)\n"
     ]
    }
   ],
   "source": [
    "if testing:\n",
    "    epochs= 1\n",
    "    save_results_local= 1\n",
    "\n",
    "configs = {\n",
    "    'output_scale': 1.0,\n",
    "    'output_scale_learnable': True,\n",
    "\n",
    "    'device': 'cuda:0',\n",
    "    'model': 'd2nnASwWindow', \n",
    "    \n",
    "    \"lambda_\": 6.328e-07,\n",
    "    \"delta_z\": 3.373e-06,\n",
    "    \"in_dist\": 3.373e-06,\n",
    "    \"out_dist\": 5.904e-06,\n",
    "    \"neuron_size\": 3.164e-07,    \n",
    "    \n",
    "    'img_size': 128,\n",
    "    'shrink_factor': 4,\n",
    "    'n_layers': 8,\n",
    "    'window_size':4,\n",
    "    'save_results_local':save_results_local,\n",
    "\n",
    "    'learning_rate': 0.01,\n",
    "    'epochs': epochs,\n",
    "    'loss_func': 'BerHu(\\'mean\\',0.98).to(device)',\n",
    "    'train_batch_size': 32,\n",
    "    'torch_seed': 10,\n",
    "    'learn_type': 'phase', \n",
    "    'unwrapped_phase': True,\n",
    "\n",
    "    'testing': testing,\n",
    "    'log_wandb' : log_wandb,\n",
    "\n",
    "    'task_type': 'phase2intensity',\n",
    "\n",
    "    'get_dataloaders' : 'get_mnist_dataloaders', #'get_qpm_np_dataloaders', \n",
    "\n",
    "    'angle_max': '2*np.pi', #'2*np.pi',\n",
    "    'dataset_debug_opts': 'clip_phase',\n",
    "}\n",
    "\n",
    "configs['exp_name'] = f\"d2nn_exp_mnist_2pi_newBerhu@learn_type({configs['learn_type']})@output_scale_learnable({configs['output_scale_learnable']})\"\n",
    "\n",
    "print(configs['exp_name'])\n",
    "\n",
    "if testing:\n",
    "    configs['exp_name'] = 'testing'\n",
    "\n",
    "if configs['log_wandb']:\n",
    "    wandb.init(\n",
    "        project='PhaseD2NN_reproduce', # Wandb project name\n",
    "        name =configs['exp_name'], # meaningful experiment name\n",
    "        tags = ['Hasindu'],\n",
    "        config=configs,\n",
    "    )\n",
    "train_and_log(configs)\n",
    "\n",
    "if configs['log_wandb']:wandb.finish()\n"
   ]
  },
  {
   "cell_type": "code",
   "execution_count": null,
   "metadata": {},
   "outputs": [],
   "source": []
  },
  {
   "cell_type": "code",
   "execution_count": null,
   "metadata": {},
   "outputs": [],
   "source": []
  }
 ],
 "metadata": {
  "accelerator": "GPU",
  "colab": {
   "collapsed_sections": [],
   "name": "experiments.ipynb",
   "provenance": [
    {
     "file_id": "1-1ossIcAiyAOuyQRtG3UIo85YO-l0HsT",
     "timestamp": 1629577855438
    },
    {
     "file_id": "1DNfkxnqZE1TDV10EkXclOz7JzkVrdDt-",
     "timestamp": 1629171028022
    }
   ]
  },
  "kernelspec": {
   "display_name": "d2nn_fyp",
   "language": "python",
   "name": "d2nn_fyp"
  },
  "language_info": {
   "codemirror_mode": {
    "name": "ipython",
    "version": 3
   },
   "file_extension": ".py",
   "mimetype": "text/x-python",
   "name": "python",
   "nbconvert_exporter": "python",
   "pygments_lexer": "ipython3",
   "version": "3.6.13"
  }
 },
 "nbformat": 4,
 "nbformat_minor": 4
}
