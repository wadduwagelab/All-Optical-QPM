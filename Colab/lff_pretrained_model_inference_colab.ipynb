{
 "cells": [
  {
   "cell_type": "markdown",
   "id": "ca419cdb",
   "metadata": {
    "colab_type": "text",
    "id": "view-in-github"
   },
   "source": [
    "<a href=\"https://colab.research.google.com/github/Bantami/All-Optical-QPM/blob/main/Colab/lff_pretrained_model_inference_colab.ipynb\" target=\"_parent\"><img src=\"https://colab.research.google.com/assets/colab-badge.svg\" alt=\"Open In Colab\"/></a>"
   ]
  },
  {
   "cell_type": "markdown",
   "id": "5402f84a-6ea3-4763-b860-786f55212cd0",
   "metadata": {
    "id": "5402f84a-6ea3-4763-b860-786f55212cd0"
   },
   "source": [
    "### Colab Setting up Scripts\n",
    "\n",
    "\n",
    "*   Downloading repository, dataset and models\n",
    "*   Install pip packages\n"
   ]
  },
  {
   "cell_type": "code",
   "execution_count": null,
   "id": "HvH5kirsClqB",
   "metadata": {
    "colab": {
     "base_uri": "https://localhost:8080/"
    },
    "id": "HvH5kirsClqB",
    "outputId": "a95b9849-2105-4dbb-95c7-f622ac3afc3d"
   },
   "outputs": [],
   "source": [
    "!git clone https://github.com/wadduwagelab/All-Optical-QPM.git\n",
    "\n",
    "!chmod 755 All-Optical-QPM/colab_setup.sh\n",
    "!All-Optical-QPM/colab_setup.sh"
   ]
  },
  {
   "cell_type": "markdown",
   "id": "7ca60a73-811c-4eca-a1b1-1fae6b884763",
   "metadata": {
    "id": "7ca60a73-811c-4eca-a1b1-1fae6b884763"
   },
   "source": [
    "### Import Libraries"
   ]
  },
  {
   "cell_type": "code",
   "execution_count": null,
   "id": "b20b1b63-f4ef-460d-b390-c5137461943e",
   "metadata": {
    "id": "b20b1b63-f4ef-460d-b390-c5137461943e"
   },
   "outputs": [],
   "source": [
    "import sys\n",
    "sys.path.append('All-Optical-QPM')\n",
    "\n",
    "\n",
    "from torch import nn\n",
    "from collections import OrderedDict\n",
    "from torchvision.utils import make_grid\n",
    "import torch\n",
    "import numpy as np\n",
    "import matplotlib.pyplot as plt\n",
    "import cv2\n",
    "from skimage.transform import resize\n",
    "from torchvision import datasets, transforms\n",
    "import math\n",
    "from torch.utils.data import Dataset\n",
    "from torch.utils.data import DataLoader\n",
    "from PIL import Image\n",
    "import glob\n",
    "import os\n",
    "import json\n",
    "\n",
    "from modules.dataloaders import *\n",
    "from modules.diffraction import *\n",
    "from modules.fourier_model import *\n",
    "from modules.eval_metrics import *\n",
    "from modules.vis_utils import *"
   ]
  },
  {
   "cell_type": "markdown",
   "id": "e4f5158a-c49e-4d0c-b17a-0fb22b511a27",
   "metadata": {
    "id": "e4f5158a-c49e-4d0c-b17a-0fb22b511a27"
   },
   "source": [
    "## Use Pretrained Models: Model Selection and Loading"
   ]
  },
  {
   "cell_type": "code",
   "execution_count": null,
   "id": "21aec3bf-5619-4f0f-af8d-f97759e03849",
   "metadata": {
    "id": "21aec3bf-5619-4f0f-af8d-f97759e03849"
   },
   "outputs": [],
   "source": [
    "pretrained_models = {\n",
    "    # Amp+Phase models:\n",
    "    'AP MNIST'         : 'MNIST_lff_ap',\n",
    "    'AP MNIST [0,2Pi]' : 'MNIST_2pi_lff_ap',\n",
    "    'AP HeLa [0,Pi]'   : 'Hela_pi_lff_ap',\n",
    "    'AP HeLa [0,2Pi]'  : 'Hela_2pi_lff_ap',\n",
    "    'AP Bacteria'      : 'Bacteria_lff_ap',\n",
    "    \n",
    "    # Phase models\n",
    "    'P MNIST'         : 'MNIST_lff_p',\n",
    "    'P MNIST [0,2Pi]' : 'MNIST_2pi_lff_p',\n",
    "    'P HeLa [0,Pi]'   : 'Hela_pi_lff_p',\n",
    "    'P HeLa [0,2Pi]'  : 'Hela_2pi_lff_p',\n",
    "    'P Bacteria'      : 'Bacteria_lff_p',\n",
    "    \n",
    "    # LRF models\n",
    "    'LRF MNIST'         : 'MNIST_lrf',\n",
    "    'LRF MNIST [0,2Pi]' : 'MNIST_2pi_lrf',\n",
    "    'LRF HeLa [0,Pi]'   : 'Hela_pi_lrf',\n",
    "    'LRF HeLa [0,2Pi]'  : 'Hela_2pi_lrf',\n",
    "    'LRF Bacteria'      : 'Bacteria_lrf',\n",
    "} "
   ]
  },
  {
   "cell_type": "code",
   "execution_count": null,
   "id": "c92a4af2-7ef1-4829-b80b-65d434fce72d",
   "metadata": {
    "id": "c92a4af2-7ef1-4829-b80b-65d434fce72d"
   },
   "outputs": [],
   "source": [
    "def initiate_model(model_name):\n",
    "  '''\n",
    "      Function to initiate the model and dataloaders\n",
    "\n",
    "        Args:\n",
    "              model_name  : The name of the model - 'MNIST', 'HeLa [0,Pi]', 'HeLa [0,2Pi]', 'Bacteria'\n",
    "              \n",
    "        Returns:\n",
    "              cfg         : Configurations dictionary\n",
    "              model       : Initiated model\n",
    "              val_loader  : Dataloader containing the test images\n",
    "  '''\n",
    "\n",
    "  model = pretrained_models[model_name] #### Specify which dataset you are considering\n",
    "\n",
    "  folder = 'models/'\n",
    "\n",
    "  file_name = f'{model}.pth'\n",
    "\n",
    "  saved = torch.load(folder + file_name,map_location='cuda:0') # Loading pretrained model\n",
    "\n",
    "  cfg   = saved['cfg']\n",
    "  cfg['device'] = 'cuda:0'\n",
    "\n",
    "  model = eval(cfg['model'])(cfg).to(cfg['device'])\n",
    "  model.load_state_dict(saved['state_dict'])\n",
    "  model.eval()\n",
    "\n",
    "  torch.manual_seed(cfg['torch_seed'])\n",
    "\n",
    "  shrinkFactor = cfg['shrink_factor'] if 'shrink_factor' in cfg else 1\n",
    "  img_size     = cfg['img_size']\n",
    "  angle_max    = eval(cfg['angle_max'])\n",
    "  device = cfg['device']\n",
    "\n",
    "  if(shrinkFactor!=1):\n",
    "      # To obtain the starting position and ending position of the original image within the padded image \n",
    "      csize = int(img_size/shrinkFactor)\n",
    "      spos  = int((img_size - csize)/2)\n",
    "      epos  = spos + csize\n",
    "  else:\n",
    "      spos = 0\n",
    "      epos = img_size\n",
    "      \n",
    "  dataloader = eval(cfg['get_dataloaders'])\n",
    "  print(cfg['get_dataloaders'])\n",
    "\n",
    "  _, _, test_loader =  dataloader(cfg['img_size'], cfg['train_batch_size'], cfg['torch_seed'],  task_type= cfg['task_type'], shrinkFactor = shrinkFactor, cfg = cfg)\n",
    "  print(len(test_loader))\n",
    "\n",
    "  cfg['spos'] = spos\n",
    "  cfg['epos'] = epos\n",
    "\n",
    "  return cfg, model, test_loader"
   ]
  },
  {
   "cell_type": "markdown",
   "id": "380fc8b7-422e-412a-91cb-67d627c6336e",
   "metadata": {
    "id": "380fc8b7-422e-412a-91cb-67d627c6336e"
   },
   "source": [
    "### Run Inference on Unseen Data"
   ]
  },
  {
   "cell_type": "code",
   "execution_count": null,
   "id": "96c4fe57-22b8-4248-8f75-e1761a67874b",
   "metadata": {
    "id": "96c4fe57-22b8-4248-8f75-e1761a67874b"
   },
   "outputs": [],
   "source": [
    "def inference(cfg, model, test_loader):\n",
    "  '''\n",
    "      Function to infer on unseen data\n",
    "\n",
    "        Args:\n",
    "              cfg         : Configurations dictionary\n",
    "              model       : Initiated model\n",
    "              test_loader  : Dataloader containing the test images              \n",
    "  '''\n",
    "\n",
    "  spos = cfg['spos']\n",
    "  epos = cfg['epos']\n",
    "  angle_max    = eval(cfg['angle_max'])\n",
    "  shrinkFactor = cfg['shrink_factor'] if 'shrink_factor' in cfg else 1\n",
    "  img_size     = cfg['img_size']\n",
    "  inp_circular = cfg['input_circular'] if 'input_circular' in cfg.keys() else False # If the input field is propagated through a circular aperture\n",
    "  device = cfg['device']\n",
    "\n",
    "  if inp_circular: # Creating a circular mask to apply on the input\n",
    "      rc = (img_size//2)//shrinkFactor\n",
    "      xc = torch.arange(-img_size//2,img_size//2,1) \n",
    "      xc = torch.tile(xc, (1,img_size)).view(img_size,img_size).to(torch.cfloat)\n",
    "\n",
    "      yc = torch.arange(img_size//2,-img_size//2,-1).view(img_size,1)\n",
    "      yc = torch.tile(yc, (1,img_size)).view(img_size,img_size).to(torch.cfloat)\n",
    "\n",
    "      circ = (abs(xc)**2 + abs(yc)**2 <= (rc)**2).to(torch.float32).view(1,img_size,img_size).to(device)\n",
    "  else:\n",
    "      circ = torch.ones(1,img_size,img_size).to(device)\n",
    "\n",
    "  ssim_scores = []\n",
    "\n",
    "  for idx, (x, y) in enumerate(test_loader):  # Test loop \n",
    "      gt = x[:,0].to(cfg['device']) * circ # Groung truth image (input)\n",
    "      pred_img,out_scale = model(gt) \n",
    "\n",
    "      \n",
    "      pred_img = pred_img[:,spos:epos,spos:epos] # Crop the reconstructed image\n",
    "      gt       = gt[:,spos:epos,spos:epos]       # Crop the groundtruth image\n",
    "      \n",
    "      pred_out = out_scale * (pred_img.abs()**2) * circ[:,spos:epos,spos:epos]\n",
    "\n",
    "      if(cfg['get_dataloaders']==\"get_mnist_dataloaders\"):\n",
    "          gt_angle = ((gt.angle()%(2*np.pi))/angle_max)\n",
    "          ground_truth = gt.abs()+1j*gt_angle\n",
    "      else:\n",
    "          # CLIP ANGLE TO -> [0, angle_max]\n",
    "          y = torch.clip(y, min= 0, max= angle_max).to(device) * circ # y will have the original phase image\n",
    "          gt_angle = y[:,0].to(cfg['device'])[:,spos:epos,spos:epos] / angle_max\n",
    "          ground_truth = gt.abs() + 1j*gt_angle\n",
    "          \n",
    "      pred_out = pred_out.to(torch.float32)\n",
    "      ssim_scores.append(ssim_pytorch(pred_out, gt_angle, k= 11,range_independent=False))\n",
    "      \n",
    "\n",
    "  print(\"========\\nMean SSIM = \", np.mean(ssim_scores))\n",
    "\n",
    "  if cfg['get_dataloaders'] == 'get_qpm_np_dataloaders':\n",
    "    s = 6\n",
    "    e = 10\n",
    "  else:\n",
    "    s = 10\n",
    "    e = 14\n",
    "        \n",
    "  pred_img_set= pred_out[s:e]/out_scale # .unsqueeze(dim= 1) when making the grid\n",
    "  gt_img_set= ground_truth[s:e] # .unsqueeze(dim= 1) when making the grid\n",
    "    \n",
    "  gt_angle = gt_img_set.detach().cpu().imag\n",
    "  gt_abs = gt_img_set.detach().cpu().real\n",
    "        \n",
    "  if cfg['get_dataloaders'] == 'get_mnist_dataloaders':\n",
    "    pred_img = pred_img_set[0]\n",
    "    gt_angle = gt_angle[0]\n",
    "    gt_abs = gt_abs[0]\n",
    "  elif cfg['get_dataloaders'] == 'get_qpm_np_dataloaders':\n",
    "    pred_img = pred_img_set[0]\n",
    "    gt_angle = gt_angle[0]\n",
    "    gt_abs = gt_abs[0]\n",
    "  elif cfg['get_dataloaders'] == 'get_bacteria_dataloaders':\n",
    "    pred_img = pred_img_set[3]\n",
    "    gt_angle = gt_angle[3]\n",
    "    gt_abs = gt_abs[3]\n",
    "\n",
    "  plt.figure(figsize=(4,4))\n",
    "  plt.title(\"Grountruth Phase\")\n",
    "  plt.imshow(gt_angle.numpy(),vmin=0)\n",
    "  plt.colorbar()\n",
    "  \n",
    "\n",
    "  plt.figure(figsize=(4,4))\n",
    "  plt.imshow(pred_img.abs().detach().cpu().numpy(),vmin=0)\n",
    "  plt.colorbar()\n",
    "  plt.title('Reconstructed : Intensity')"
   ]
  },
  {
   "cell_type": "markdown",
   "id": "6762c37e-50ff-4bb8-abd6-e1d6ba19ec9e",
   "metadata": {
    "tags": []
   },
   "source": [
    "# Amp+Phase LFF Models"
   ]
  },
  {
   "cell_type": "markdown",
   "id": "VtSVzBMHUgtW",
   "metadata": {
    "id": "VtSVzBMHUgtW",
    "tags": []
   },
   "source": [
    "#### MNIST"
   ]
  },
  {
   "cell_type": "code",
   "execution_count": null,
   "id": "4a1e641f-7530-42ad-8640-453d1d5df6d5",
   "metadata": {
    "colab": {
     "base_uri": "https://localhost:8080/",
     "height": 1000,
     "referenced_widgets": [
      "3d63ff3bd5d3433e9bcad216c71a972f",
      "3f75ca1ec7b341cf9405646e629dc88e",
      "f42358616e77439f9f8a7c0c4c2cbf38",
      "4037d64964294d41b3fc248db054af30",
      "60f52983d0d44d1d811434711b5da850",
      "584500f9ddd044ed8fbcd0db802c9b7e",
      "3d18bec5b1624bccba2e81ac515945ba",
      "60cb991c13504805861b2bcb930d09b9",
      "c029224c67d9467796c48103b9416d41",
      "78f0bb4fc42f431cbb9f72948611bc36",
      "12839759ac374068bd87faf5f5b0b733",
      "3f9982c3eed044dcbc229af689766715",
      "0af23db01d664502a59443fd22a6ba3a",
      "8ed2c1eb04404880b65ba19b2911dc6e",
      "686f16136e5646179cfb6c84f8920f13",
      "e38e6429a3ee4b7b9b9e2b0eabd09c5e",
      "d7c9f649fc2b4646af0271ea1aff9b5d",
      "fd4bc84eebc84d3fa6f693a6ae21ff59",
      "a8b0d7bd54b248ce870295c6314db970",
      "7bc06bb08574449cb1ec6dcd32c53c97",
      "abefc9215d4f49fab33c592e91058ca6",
      "6688c17eee58429c9baf59b33a1e6342",
      "b80d8b459d9243108e8beb39e2b6d518",
      "afcf90d0b39a486f969e74946007e8fa",
      "b4d15ce85ccf4f14b7f2b4f3e45e3005",
      "0def02a4b6b44b50b31c1ca65113273e",
      "f2e0e78151d74529b39e524ad5358fa2",
      "59911db33e4f4c86b31830b516c5474d",
      "d31e0b08b8814cbbb46b6b45cecda91d",
      "198800bd211d4e2dabe23b94f7fec31f",
      "9d032e0d24d44fe6b7a60071d85cc468",
      "69e355b222fa4bd7a0b9b92e36684550",
      "aebf754e0e80488aa68d088f31d2fcfc",
      "8bb93a10144442248ccc76d901e1e97e",
      "5fca484a99304b669c5f37d1690cc2a0",
      "0d83b43af86043c6aff53f2ef78b3833",
      "907be901b2d44aa29c1212e9b06d6dcf",
      "f4c6e2c53c5d4e88966dc1814e91addb",
      "46c5d5f98c694b74b938bb46ed8497b8",
      "2fc077324a674076b86d59234e5c8ab4",
      "b800374ef85e48ffb4d6a43f1ed2adbf",
      "db58ad6fd4084d4986d33cae6767d98d",
      "3208938e7a62489cabb9ccf6ded08979",
      "88aeb1281da34b0086701486899ece3c"
     ]
    },
    "id": "4a1e641f-7530-42ad-8640-453d1d5df6d5",
    "outputId": "f2ad0a47-bad6-4d20-f56c-a3ee00ce40be"
   },
   "outputs": [],
   "source": [
    "cfg, model, test_loader = initiate_model('AP MNIST')\n",
    "inference(cfg, model, test_loader)"
   ]
  },
  {
   "cell_type": "markdown",
   "id": "c520ca8f-4bfe-48cf-b50d-9a32da134fb0",
   "metadata": {},
   "source": [
    "#### MNIST [0, 2$\\pi$]"
   ]
  },
  {
   "cell_type": "code",
   "execution_count": null,
   "id": "180e79b9-4c32-4289-a79a-7df59f602d1c",
   "metadata": {},
   "outputs": [],
   "source": [
    "cfg, model, test_loader = initiate_model('AP MNIST [0,2Pi]')\n",
    "inference(cfg, model, test_loader)"
   ]
  },
  {
   "cell_type": "markdown",
   "id": "_7kZw41FUn7M",
   "metadata": {
    "id": "_7kZw41FUn7M"
   },
   "source": [
    "#### HeLa [0, $\\pi$]"
   ]
  },
  {
   "cell_type": "code",
   "execution_count": null,
   "id": "PJIeqDt9Ut3f",
   "metadata": {
    "colab": {
     "base_uri": "https://localhost:8080/",
     "height": 606
    },
    "id": "PJIeqDt9Ut3f",
    "outputId": "1c4c01d8-b238-4260-ad9c-dc9f4ff46649"
   },
   "outputs": [],
   "source": [
    "cfg, model, val_loader = initiate_model('AP HeLa [0,Pi]')\n",
    "inference(cfg, model, val_loader)"
   ]
  },
  {
   "cell_type": "markdown",
   "id": "szxPpdImU0x_",
   "metadata": {
    "id": "szxPpdImU0x_"
   },
   "source": [
    "#### HeLa [0, $2\\pi$]"
   ]
  },
  {
   "cell_type": "code",
   "execution_count": null,
   "id": "4Uc0HIA3U8GA",
   "metadata": {
    "colab": {
     "base_uri": "https://localhost:8080/",
     "height": 606
    },
    "id": "4Uc0HIA3U8GA",
    "outputId": "858ebb35-1ec1-4161-9de5-6ba4c8781251"
   },
   "outputs": [],
   "source": [
    "cfg, model, val_loader = initiate_model('AP HeLa [0,2Pi]')\n",
    "inference(cfg, model, val_loader)"
   ]
  },
  {
   "cell_type": "markdown",
   "id": "TRLbJsu5-FBG",
   "metadata": {
    "id": "TRLbJsu5-FBG"
   },
   "source": [
    "#### Bacteria"
   ]
  },
  {
   "cell_type": "code",
   "execution_count": null,
   "id": "EPhEVda6-G9m",
   "metadata": {
    "colab": {
     "base_uri": "https://localhost:8080/",
     "height": 598
    },
    "id": "EPhEVda6-G9m",
    "outputId": "e0030b24-3587-48f6-9c4a-c2417bd59fc7"
   },
   "outputs": [],
   "source": [
    "cfg, model, val_loader = initiate_model('AP Bacteria')\n",
    "inference(cfg, model, val_loader)"
   ]
  },
  {
   "cell_type": "markdown",
   "id": "dc3ebbd0-bfd9-4013-9a04-f45e4699011e",
   "metadata": {},
   "source": [
    "# Phase LFF Models"
   ]
  },
  {
   "cell_type": "markdown",
   "id": "41e441ea-b3bf-4d69-8734-699dc31becc6",
   "metadata": {},
   "source": [
    "#### MNIST"
   ]
  },
  {
   "cell_type": "code",
   "execution_count": null,
   "id": "406a74aa-020d-4e51-8dcf-eb17832cf000",
   "metadata": {},
   "outputs": [],
   "source": [
    "cfg, model, test_loader = initiate_model('P MNIST')\n",
    "inference(cfg, model, test_loader)"
   ]
  },
  {
   "cell_type": "markdown",
   "id": "df21d391-eaa6-4e3a-82be-aa38ebd31ee0",
   "metadata": {},
   "source": [
    "#### MNIST [0, 2$\\pi$]"
   ]
  },
  {
   "cell_type": "code",
   "execution_count": null,
   "id": "9d007503-60c4-4a24-8f9d-ad14224bddd5",
   "metadata": {},
   "outputs": [],
   "source": [
    "cfg, model, test_loader = initiate_model('P MNIST [0,2Pi]')\n",
    "inference(cfg, model, test_loader)"
   ]
  },
  {
   "cell_type": "markdown",
   "id": "7d6420cd-5095-4a1d-8305-ab3e41376bdb",
   "metadata": {},
   "source": [
    "#### HeLa [0, $\\pi$]"
   ]
  },
  {
   "cell_type": "code",
   "execution_count": null,
   "id": "c2a22984-9599-46ba-9dae-28aaebd37ed8",
   "metadata": {},
   "outputs": [],
   "source": [
    "cfg, model, val_loader = initiate_model('P HeLa [0,Pi]')\n",
    "inference(cfg, model, val_loader)"
   ]
  },
  {
   "cell_type": "markdown",
   "id": "fc4d6378-b9cd-460d-8021-71f62b6ed67d",
   "metadata": {},
   "source": [
    "#### HeLa [0, 2$\\pi$]"
   ]
  },
  {
   "cell_type": "code",
   "execution_count": null,
   "id": "a483d84a-cf77-4740-b88b-e8ae7d606ac3",
   "metadata": {},
   "outputs": [],
   "source": [
    "cfg, model, val_loader = initiate_model('P HeLa [0,2Pi]')\n",
    "inference(cfg, model, val_loader)"
   ]
  },
  {
   "cell_type": "markdown",
   "id": "4ace9c8c-e3dc-4eb5-b179-ed30fea23786",
   "metadata": {},
   "source": [
    "#### Bacteria"
   ]
  },
  {
   "cell_type": "code",
   "execution_count": null,
   "id": "f33c15ad-7c46-401d-8211-3f3866247f0f",
   "metadata": {},
   "outputs": [],
   "source": [
    "cfg, model, val_loader = initiate_model('P Bacteria')\n",
    "inference(cfg, model, val_loader)"
   ]
  },
  {
   "cell_type": "markdown",
   "id": "13dcdb56-81ad-4fc3-a7af-c13ae449a9b4",
   "metadata": {},
   "source": [
    "# LRF Models"
   ]
  },
  {
   "cell_type": "markdown",
   "id": "82a18849-bee7-4661-8f34-0e4d610a2e4e",
   "metadata": {},
   "source": [
    "#### MNIST"
   ]
  },
  {
   "cell_type": "code",
   "execution_count": null,
   "id": "0f9a0c3a-f03a-4f7c-aee5-5baaed451776",
   "metadata": {},
   "outputs": [],
   "source": [
    "cfg, model, test_loader = initiate_model('LRF MNIST')\n",
    "inference(cfg, model, test_loader)"
   ]
  },
  {
   "cell_type": "markdown",
   "id": "93f39811-624f-4c78-a128-f1e55b1daafb",
   "metadata": {},
   "source": [
    "#### MNIST [0, 2$\\pi$]"
   ]
  },
  {
   "cell_type": "code",
   "execution_count": null,
   "id": "8b81ddbd-40ae-4d52-ac5b-7c841396e699",
   "metadata": {},
   "outputs": [],
   "source": [
    "cfg, model, test_loader = initiate_model('LRF MNIST [0, 2Pi]')\n",
    "inference(cfg, model, test_loader)"
   ]
  },
  {
   "cell_type": "markdown",
   "id": "73ce5463-bd3e-4b07-8f04-df26fae9380a",
   "metadata": {},
   "source": [
    "#### HeLa [0, $\\pi$]"
   ]
  },
  {
   "cell_type": "code",
   "execution_count": null,
   "id": "0a288afe-7473-4dce-8fa3-1c8c048a6964",
   "metadata": {},
   "outputs": [],
   "source": [
    "cfg, model, val_loader = initiate_model('LRF HeLa [0,Pi]')\n",
    "inference(cfg, model, val_loader)"
   ]
  },
  {
   "cell_type": "markdown",
   "id": "c3c8a221-76c1-490a-aa99-c251125d10fc",
   "metadata": {},
   "source": [
    "#### HeLa [0, 2$\\pi$]"
   ]
  },
  {
   "cell_type": "code",
   "execution_count": null,
   "id": "2b1e4b24-ccc6-41ba-81df-29f25c85dc63",
   "metadata": {},
   "outputs": [],
   "source": [
    "cfg, model, val_loader = initiate_model('LRF HeLa [0,2Pi]')\n",
    "inference(cfg, model, val_loader)"
   ]
  },
  {
   "cell_type": "markdown",
   "id": "8dc783c0-65f7-475a-81b9-64477326c69b",
   "metadata": {},
   "source": [
    "#### Bacteria"
   ]
  },
  {
   "cell_type": "code",
   "execution_count": null,
   "id": "35ac9427-e8fe-41b5-a0d1-f9dcafd0a9bb",
   "metadata": {},
   "outputs": [],
   "source": [
    "cfg, model, val_loader = initiate_model('LRF Bacteria')\n",
    "inference(cfg, model, val_loader)"
   ]
  }
 ],
 "metadata": {
  "accelerator": "GPU",
  "colab": {
   "include_colab_link": true,
   "name": "lff_inference.ipynb",
   "provenance": []
  },
  "gpuClass": "standard",
  "kernelspec": {
   "display_name": "FYPD2NN",
   "language": "python",
   "name": "fypd2nn"
  },
  "language_info": {
   "codemirror_mode": {
    "name": "ipython",
    "version": 3
   },
   "file_extension": ".py",
   "mimetype": "text/x-python",
   "name": "python",
   "nbconvert_exporter": "python",
   "pygments_lexer": "ipython3",
   "version": "3.6.13"
  },
  "widgets": {
   "application/vnd.jupyter.widget-state+json": {
    "0af23db01d664502a59443fd22a6ba3a": {
     "model_module": "@jupyter-widgets/controls",
     "model_module_version": "1.5.0",
     "model_name": "HTMLModel",
     "state": {
      "_dom_classes": [],
      "_model_module": "@jupyter-widgets/controls",
      "_model_module_version": "1.5.0",
      "_model_name": "HTMLModel",
      "_view_count": null,
      "_view_module": "@jupyter-widgets/controls",
      "_view_module_version": "1.5.0",
      "_view_name": "HTMLView",
      "description": "",
      "description_tooltip": null,
      "layout": "IPY_MODEL_d7c9f649fc2b4646af0271ea1aff9b5d",
      "placeholder": "​",
      "style": "IPY_MODEL_fd4bc84eebc84d3fa6f693a6ae21ff59",
      "value": ""
     }
    },
    "0d83b43af86043c6aff53f2ef78b3833": {
     "model_module": "@jupyter-widgets/controls",
     "model_module_version": "1.5.0",
     "model_name": "FloatProgressModel",
     "state": {
      "_dom_classes": [],
      "_model_module": "@jupyter-widgets/controls",
      "_model_module_version": "1.5.0",
      "_model_name": "FloatProgressModel",
      "_view_count": null,
      "_view_module": "@jupyter-widgets/controls",
      "_view_module_version": "1.5.0",
      "_view_name": "ProgressView",
      "bar_style": "success",
      "description": "",
      "description_tooltip": null,
      "layout": "IPY_MODEL_b800374ef85e48ffb4d6a43f1ed2adbf",
      "max": 4542,
      "min": 0,
      "orientation": "horizontal",
      "style": "IPY_MODEL_db58ad6fd4084d4986d33cae6767d98d",
      "value": 4542
     }
    },
    "0def02a4b6b44b50b31c1ca65113273e": {
     "model_module": "@jupyter-widgets/controls",
     "model_module_version": "1.5.0",
     "model_name": "HTMLModel",
     "state": {
      "_dom_classes": [],
      "_model_module": "@jupyter-widgets/controls",
      "_model_module_version": "1.5.0",
      "_model_name": "HTMLModel",
      "_view_count": null,
      "_view_module": "@jupyter-widgets/controls",
      "_view_module_version": "1.5.0",
      "_view_name": "HTMLView",
      "description": "",
      "description_tooltip": null,
      "layout": "IPY_MODEL_69e355b222fa4bd7a0b9b92e36684550",
      "placeholder": "​",
      "style": "IPY_MODEL_aebf754e0e80488aa68d088f31d2fcfc",
      "value": " 1649664/? [00:00&lt;00:00, 33861836.94it/s]"
     }
    },
    "12839759ac374068bd87faf5f5b0b733": {
     "model_module": "@jupyter-widgets/controls",
     "model_module_version": "1.5.0",
     "model_name": "DescriptionStyleModel",
     "state": {
      "_model_module": "@jupyter-widgets/controls",
      "_model_module_version": "1.5.0",
      "_model_name": "DescriptionStyleModel",
      "_view_count": null,
      "_view_module": "@jupyter-widgets/base",
      "_view_module_version": "1.2.0",
      "_view_name": "StyleView",
      "description_width": ""
     }
    },
    "198800bd211d4e2dabe23b94f7fec31f": {
     "model_module": "@jupyter-widgets/base",
     "model_module_version": "1.2.0",
     "model_name": "LayoutModel",
     "state": {
      "_model_module": "@jupyter-widgets/base",
      "_model_module_version": "1.2.0",
      "_model_name": "LayoutModel",
      "_view_count": null,
      "_view_module": "@jupyter-widgets/base",
      "_view_module_version": "1.2.0",
      "_view_name": "LayoutView",
      "align_content": null,
      "align_items": null,
      "align_self": null,
      "border": null,
      "bottom": null,
      "display": null,
      "flex": null,
      "flex_flow": null,
      "grid_area": null,
      "grid_auto_columns": null,
      "grid_auto_flow": null,
      "grid_auto_rows": null,
      "grid_column": null,
      "grid_gap": null,
      "grid_row": null,
      "grid_template_areas": null,
      "grid_template_columns": null,
      "grid_template_rows": null,
      "height": null,
      "justify_content": null,
      "justify_items": null,
      "left": null,
      "margin": null,
      "max_height": null,
      "max_width": null,
      "min_height": null,
      "min_width": null,
      "object_fit": null,
      "object_position": null,
      "order": null,
      "overflow": null,
      "overflow_x": null,
      "overflow_y": null,
      "padding": null,
      "right": null,
      "top": null,
      "visibility": null,
      "width": null
     }
    },
    "2fc077324a674076b86d59234e5c8ab4": {
     "model_module": "@jupyter-widgets/controls",
     "model_module_version": "1.5.0",
     "model_name": "DescriptionStyleModel",
     "state": {
      "_model_module": "@jupyter-widgets/controls",
      "_model_module_version": "1.5.0",
      "_model_name": "DescriptionStyleModel",
      "_view_count": null,
      "_view_module": "@jupyter-widgets/base",
      "_view_module_version": "1.2.0",
      "_view_name": "StyleView",
      "description_width": ""
     }
    },
    "3208938e7a62489cabb9ccf6ded08979": {
     "model_module": "@jupyter-widgets/base",
     "model_module_version": "1.2.0",
     "model_name": "LayoutModel",
     "state": {
      "_model_module": "@jupyter-widgets/base",
      "_model_module_version": "1.2.0",
      "_model_name": "LayoutModel",
      "_view_count": null,
      "_view_module": "@jupyter-widgets/base",
      "_view_module_version": "1.2.0",
      "_view_name": "LayoutView",
      "align_content": null,
      "align_items": null,
      "align_self": null,
      "border": null,
      "bottom": null,
      "display": null,
      "flex": null,
      "flex_flow": null,
      "grid_area": null,
      "grid_auto_columns": null,
      "grid_auto_flow": null,
      "grid_auto_rows": null,
      "grid_column": null,
      "grid_gap": null,
      "grid_row": null,
      "grid_template_areas": null,
      "grid_template_columns": null,
      "grid_template_rows": null,
      "height": null,
      "justify_content": null,
      "justify_items": null,
      "left": null,
      "margin": null,
      "max_height": null,
      "max_width": null,
      "min_height": null,
      "min_width": null,
      "object_fit": null,
      "object_position": null,
      "order": null,
      "overflow": null,
      "overflow_x": null,
      "overflow_y": null,
      "padding": null,
      "right": null,
      "top": null,
      "visibility": null,
      "width": null
     }
    },
    "3d18bec5b1624bccba2e81ac515945ba": {
     "model_module": "@jupyter-widgets/controls",
     "model_module_version": "1.5.0",
     "model_name": "DescriptionStyleModel",
     "state": {
      "_model_module": "@jupyter-widgets/controls",
      "_model_module_version": "1.5.0",
      "_model_name": "DescriptionStyleModel",
      "_view_count": null,
      "_view_module": "@jupyter-widgets/base",
      "_view_module_version": "1.2.0",
      "_view_name": "StyleView",
      "description_width": ""
     }
    },
    "3d63ff3bd5d3433e9bcad216c71a972f": {
     "model_module": "@jupyter-widgets/controls",
     "model_module_version": "1.5.0",
     "model_name": "HBoxModel",
     "state": {
      "_dom_classes": [],
      "_model_module": "@jupyter-widgets/controls",
      "_model_module_version": "1.5.0",
      "_model_name": "HBoxModel",
      "_view_count": null,
      "_view_module": "@jupyter-widgets/controls",
      "_view_module_version": "1.5.0",
      "_view_name": "HBoxView",
      "box_style": "",
      "children": [
       "IPY_MODEL_3f75ca1ec7b341cf9405646e629dc88e",
       "IPY_MODEL_f42358616e77439f9f8a7c0c4c2cbf38",
       "IPY_MODEL_4037d64964294d41b3fc248db054af30"
      ],
      "layout": "IPY_MODEL_60f52983d0d44d1d811434711b5da850"
     }
    },
    "3f75ca1ec7b341cf9405646e629dc88e": {
     "model_module": "@jupyter-widgets/controls",
     "model_module_version": "1.5.0",
     "model_name": "HTMLModel",
     "state": {
      "_dom_classes": [],
      "_model_module": "@jupyter-widgets/controls",
      "_model_module_version": "1.5.0",
      "_model_name": "HTMLModel",
      "_view_count": null,
      "_view_module": "@jupyter-widgets/controls",
      "_view_module_version": "1.5.0",
      "_view_name": "HTMLView",
      "description": "",
      "description_tooltip": null,
      "layout": "IPY_MODEL_584500f9ddd044ed8fbcd0db802c9b7e",
      "placeholder": "​",
      "style": "IPY_MODEL_3d18bec5b1624bccba2e81ac515945ba",
      "value": ""
     }
    },
    "3f9982c3eed044dcbc229af689766715": {
     "model_module": "@jupyter-widgets/controls",
     "model_module_version": "1.5.0",
     "model_name": "HBoxModel",
     "state": {
      "_dom_classes": [],
      "_model_module": "@jupyter-widgets/controls",
      "_model_module_version": "1.5.0",
      "_model_name": "HBoxModel",
      "_view_count": null,
      "_view_module": "@jupyter-widgets/controls",
      "_view_module_version": "1.5.0",
      "_view_name": "HBoxView",
      "box_style": "",
      "children": [
       "IPY_MODEL_0af23db01d664502a59443fd22a6ba3a",
       "IPY_MODEL_8ed2c1eb04404880b65ba19b2911dc6e",
       "IPY_MODEL_686f16136e5646179cfb6c84f8920f13"
      ],
      "layout": "IPY_MODEL_e38e6429a3ee4b7b9b9e2b0eabd09c5e"
     }
    },
    "4037d64964294d41b3fc248db054af30": {
     "model_module": "@jupyter-widgets/controls",
     "model_module_version": "1.5.0",
     "model_name": "HTMLModel",
     "state": {
      "_dom_classes": [],
      "_model_module": "@jupyter-widgets/controls",
      "_model_module_version": "1.5.0",
      "_model_name": "HTMLModel",
      "_view_count": null,
      "_view_module": "@jupyter-widgets/controls",
      "_view_module_version": "1.5.0",
      "_view_name": "HTMLView",
      "description": "",
      "description_tooltip": null,
      "layout": "IPY_MODEL_78f0bb4fc42f431cbb9f72948611bc36",
      "placeholder": "​",
      "style": "IPY_MODEL_12839759ac374068bd87faf5f5b0b733",
      "value": " 9913344/? [00:00&lt;00:00, 80869234.48it/s]"
     }
    },
    "46c5d5f98c694b74b938bb46ed8497b8": {
     "model_module": "@jupyter-widgets/base",
     "model_module_version": "1.2.0",
     "model_name": "LayoutModel",
     "state": {
      "_model_module": "@jupyter-widgets/base",
      "_model_module_version": "1.2.0",
      "_model_name": "LayoutModel",
      "_view_count": null,
      "_view_module": "@jupyter-widgets/base",
      "_view_module_version": "1.2.0",
      "_view_name": "LayoutView",
      "align_content": null,
      "align_items": null,
      "align_self": null,
      "border": null,
      "bottom": null,
      "display": null,
      "flex": null,
      "flex_flow": null,
      "grid_area": null,
      "grid_auto_columns": null,
      "grid_auto_flow": null,
      "grid_auto_rows": null,
      "grid_column": null,
      "grid_gap": null,
      "grid_row": null,
      "grid_template_areas": null,
      "grid_template_columns": null,
      "grid_template_rows": null,
      "height": null,
      "justify_content": null,
      "justify_items": null,
      "left": null,
      "margin": null,
      "max_height": null,
      "max_width": null,
      "min_height": null,
      "min_width": null,
      "object_fit": null,
      "object_position": null,
      "order": null,
      "overflow": null,
      "overflow_x": null,
      "overflow_y": null,
      "padding": null,
      "right": null,
      "top": null,
      "visibility": null,
      "width": null
     }
    },
    "584500f9ddd044ed8fbcd0db802c9b7e": {
     "model_module": "@jupyter-widgets/base",
     "model_module_version": "1.2.0",
     "model_name": "LayoutModel",
     "state": {
      "_model_module": "@jupyter-widgets/base",
      "_model_module_version": "1.2.0",
      "_model_name": "LayoutModel",
      "_view_count": null,
      "_view_module": "@jupyter-widgets/base",
      "_view_module_version": "1.2.0",
      "_view_name": "LayoutView",
      "align_content": null,
      "align_items": null,
      "align_self": null,
      "border": null,
      "bottom": null,
      "display": null,
      "flex": null,
      "flex_flow": null,
      "grid_area": null,
      "grid_auto_columns": null,
      "grid_auto_flow": null,
      "grid_auto_rows": null,
      "grid_column": null,
      "grid_gap": null,
      "grid_row": null,
      "grid_template_areas": null,
      "grid_template_columns": null,
      "grid_template_rows": null,
      "height": null,
      "justify_content": null,
      "justify_items": null,
      "left": null,
      "margin": null,
      "max_height": null,
      "max_width": null,
      "min_height": null,
      "min_width": null,
      "object_fit": null,
      "object_position": null,
      "order": null,
      "overflow": null,
      "overflow_x": null,
      "overflow_y": null,
      "padding": null,
      "right": null,
      "top": null,
      "visibility": null,
      "width": null
     }
    },
    "59911db33e4f4c86b31830b516c5474d": {
     "model_module": "@jupyter-widgets/base",
     "model_module_version": "1.2.0",
     "model_name": "LayoutModel",
     "state": {
      "_model_module": "@jupyter-widgets/base",
      "_model_module_version": "1.2.0",
      "_model_name": "LayoutModel",
      "_view_count": null,
      "_view_module": "@jupyter-widgets/base",
      "_view_module_version": "1.2.0",
      "_view_name": "LayoutView",
      "align_content": null,
      "align_items": null,
      "align_self": null,
      "border": null,
      "bottom": null,
      "display": null,
      "flex": null,
      "flex_flow": null,
      "grid_area": null,
      "grid_auto_columns": null,
      "grid_auto_flow": null,
      "grid_auto_rows": null,
      "grid_column": null,
      "grid_gap": null,
      "grid_row": null,
      "grid_template_areas": null,
      "grid_template_columns": null,
      "grid_template_rows": null,
      "height": null,
      "justify_content": null,
      "justify_items": null,
      "left": null,
      "margin": null,
      "max_height": null,
      "max_width": null,
      "min_height": null,
      "min_width": null,
      "object_fit": null,
      "object_position": null,
      "order": null,
      "overflow": null,
      "overflow_x": null,
      "overflow_y": null,
      "padding": null,
      "right": null,
      "top": null,
      "visibility": null,
      "width": null
     }
    },
    "5fca484a99304b669c5f37d1690cc2a0": {
     "model_module": "@jupyter-widgets/controls",
     "model_module_version": "1.5.0",
     "model_name": "HTMLModel",
     "state": {
      "_dom_classes": [],
      "_model_module": "@jupyter-widgets/controls",
      "_model_module_version": "1.5.0",
      "_model_name": "HTMLModel",
      "_view_count": null,
      "_view_module": "@jupyter-widgets/controls",
      "_view_module_version": "1.5.0",
      "_view_name": "HTMLView",
      "description": "",
      "description_tooltip": null,
      "layout": "IPY_MODEL_46c5d5f98c694b74b938bb46ed8497b8",
      "placeholder": "​",
      "style": "IPY_MODEL_2fc077324a674076b86d59234e5c8ab4",
      "value": ""
     }
    },
    "60cb991c13504805861b2bcb930d09b9": {
     "model_module": "@jupyter-widgets/base",
     "model_module_version": "1.2.0",
     "model_name": "LayoutModel",
     "state": {
      "_model_module": "@jupyter-widgets/base",
      "_model_module_version": "1.2.0",
      "_model_name": "LayoutModel",
      "_view_count": null,
      "_view_module": "@jupyter-widgets/base",
      "_view_module_version": "1.2.0",
      "_view_name": "LayoutView",
      "align_content": null,
      "align_items": null,
      "align_self": null,
      "border": null,
      "bottom": null,
      "display": null,
      "flex": null,
      "flex_flow": null,
      "grid_area": null,
      "grid_auto_columns": null,
      "grid_auto_flow": null,
      "grid_auto_rows": null,
      "grid_column": null,
      "grid_gap": null,
      "grid_row": null,
      "grid_template_areas": null,
      "grid_template_columns": null,
      "grid_template_rows": null,
      "height": null,
      "justify_content": null,
      "justify_items": null,
      "left": null,
      "margin": null,
      "max_height": null,
      "max_width": null,
      "min_height": null,
      "min_width": null,
      "object_fit": null,
      "object_position": null,
      "order": null,
      "overflow": null,
      "overflow_x": null,
      "overflow_y": null,
      "padding": null,
      "right": null,
      "top": null,
      "visibility": null,
      "width": null
     }
    },
    "60f52983d0d44d1d811434711b5da850": {
     "model_module": "@jupyter-widgets/base",
     "model_module_version": "1.2.0",
     "model_name": "LayoutModel",
     "state": {
      "_model_module": "@jupyter-widgets/base",
      "_model_module_version": "1.2.0",
      "_model_name": "LayoutModel",
      "_view_count": null,
      "_view_module": "@jupyter-widgets/base",
      "_view_module_version": "1.2.0",
      "_view_name": "LayoutView",
      "align_content": null,
      "align_items": null,
      "align_self": null,
      "border": null,
      "bottom": null,
      "display": null,
      "flex": null,
      "flex_flow": null,
      "grid_area": null,
      "grid_auto_columns": null,
      "grid_auto_flow": null,
      "grid_auto_rows": null,
      "grid_column": null,
      "grid_gap": null,
      "grid_row": null,
      "grid_template_areas": null,
      "grid_template_columns": null,
      "grid_template_rows": null,
      "height": null,
      "justify_content": null,
      "justify_items": null,
      "left": null,
      "margin": null,
      "max_height": null,
      "max_width": null,
      "min_height": null,
      "min_width": null,
      "object_fit": null,
      "object_position": null,
      "order": null,
      "overflow": null,
      "overflow_x": null,
      "overflow_y": null,
      "padding": null,
      "right": null,
      "top": null,
      "visibility": null,
      "width": null
     }
    },
    "6688c17eee58429c9baf59b33a1e6342": {
     "model_module": "@jupyter-widgets/controls",
     "model_module_version": "1.5.0",
     "model_name": "DescriptionStyleModel",
     "state": {
      "_model_module": "@jupyter-widgets/controls",
      "_model_module_version": "1.5.0",
      "_model_name": "DescriptionStyleModel",
      "_view_count": null,
      "_view_module": "@jupyter-widgets/base",
      "_view_module_version": "1.2.0",
      "_view_name": "StyleView",
      "description_width": ""
     }
    },
    "686f16136e5646179cfb6c84f8920f13": {
     "model_module": "@jupyter-widgets/controls",
     "model_module_version": "1.5.0",
     "model_name": "HTMLModel",
     "state": {
      "_dom_classes": [],
      "_model_module": "@jupyter-widgets/controls",
      "_model_module_version": "1.5.0",
      "_model_name": "HTMLModel",
      "_view_count": null,
      "_view_module": "@jupyter-widgets/controls",
      "_view_module_version": "1.5.0",
      "_view_name": "HTMLView",
      "description": "",
      "description_tooltip": null,
      "layout": "IPY_MODEL_abefc9215d4f49fab33c592e91058ca6",
      "placeholder": "​",
      "style": "IPY_MODEL_6688c17eee58429c9baf59b33a1e6342",
      "value": " 29696/? [00:00&lt;00:00, 1005003.08it/s]"
     }
    },
    "69e355b222fa4bd7a0b9b92e36684550": {
     "model_module": "@jupyter-widgets/base",
     "model_module_version": "1.2.0",
     "model_name": "LayoutModel",
     "state": {
      "_model_module": "@jupyter-widgets/base",
      "_model_module_version": "1.2.0",
      "_model_name": "LayoutModel",
      "_view_count": null,
      "_view_module": "@jupyter-widgets/base",
      "_view_module_version": "1.2.0",
      "_view_name": "LayoutView",
      "align_content": null,
      "align_items": null,
      "align_self": null,
      "border": null,
      "bottom": null,
      "display": null,
      "flex": null,
      "flex_flow": null,
      "grid_area": null,
      "grid_auto_columns": null,
      "grid_auto_flow": null,
      "grid_auto_rows": null,
      "grid_column": null,
      "grid_gap": null,
      "grid_row": null,
      "grid_template_areas": null,
      "grid_template_columns": null,
      "grid_template_rows": null,
      "height": null,
      "justify_content": null,
      "justify_items": null,
      "left": null,
      "margin": null,
      "max_height": null,
      "max_width": null,
      "min_height": null,
      "min_width": null,
      "object_fit": null,
      "object_position": null,
      "order": null,
      "overflow": null,
      "overflow_x": null,
      "overflow_y": null,
      "padding": null,
      "right": null,
      "top": null,
      "visibility": null,
      "width": null
     }
    },
    "78f0bb4fc42f431cbb9f72948611bc36": {
     "model_module": "@jupyter-widgets/base",
     "model_module_version": "1.2.0",
     "model_name": "LayoutModel",
     "state": {
      "_model_module": "@jupyter-widgets/base",
      "_model_module_version": "1.2.0",
      "_model_name": "LayoutModel",
      "_view_count": null,
      "_view_module": "@jupyter-widgets/base",
      "_view_module_version": "1.2.0",
      "_view_name": "LayoutView",
      "align_content": null,
      "align_items": null,
      "align_self": null,
      "border": null,
      "bottom": null,
      "display": null,
      "flex": null,
      "flex_flow": null,
      "grid_area": null,
      "grid_auto_columns": null,
      "grid_auto_flow": null,
      "grid_auto_rows": null,
      "grid_column": null,
      "grid_gap": null,
      "grid_row": null,
      "grid_template_areas": null,
      "grid_template_columns": null,
      "grid_template_rows": null,
      "height": null,
      "justify_content": null,
      "justify_items": null,
      "left": null,
      "margin": null,
      "max_height": null,
      "max_width": null,
      "min_height": null,
      "min_width": null,
      "object_fit": null,
      "object_position": null,
      "order": null,
      "overflow": null,
      "overflow_x": null,
      "overflow_y": null,
      "padding": null,
      "right": null,
      "top": null,
      "visibility": null,
      "width": null
     }
    },
    "7bc06bb08574449cb1ec6dcd32c53c97": {
     "model_module": "@jupyter-widgets/controls",
     "model_module_version": "1.5.0",
     "model_name": "ProgressStyleModel",
     "state": {
      "_model_module": "@jupyter-widgets/controls",
      "_model_module_version": "1.5.0",
      "_model_name": "ProgressStyleModel",
      "_view_count": null,
      "_view_module": "@jupyter-widgets/base",
      "_view_module_version": "1.2.0",
      "_view_name": "StyleView",
      "bar_color": null,
      "description_width": ""
     }
    },
    "88aeb1281da34b0086701486899ece3c": {
     "model_module": "@jupyter-widgets/controls",
     "model_module_version": "1.5.0",
     "model_name": "DescriptionStyleModel",
     "state": {
      "_model_module": "@jupyter-widgets/controls",
      "_model_module_version": "1.5.0",
      "_model_name": "DescriptionStyleModel",
      "_view_count": null,
      "_view_module": "@jupyter-widgets/base",
      "_view_module_version": "1.2.0",
      "_view_name": "StyleView",
      "description_width": ""
     }
    },
    "8bb93a10144442248ccc76d901e1e97e": {
     "model_module": "@jupyter-widgets/controls",
     "model_module_version": "1.5.0",
     "model_name": "HBoxModel",
     "state": {
      "_dom_classes": [],
      "_model_module": "@jupyter-widgets/controls",
      "_model_module_version": "1.5.0",
      "_model_name": "HBoxModel",
      "_view_count": null,
      "_view_module": "@jupyter-widgets/controls",
      "_view_module_version": "1.5.0",
      "_view_name": "HBoxView",
      "box_style": "",
      "children": [
       "IPY_MODEL_5fca484a99304b669c5f37d1690cc2a0",
       "IPY_MODEL_0d83b43af86043c6aff53f2ef78b3833",
       "IPY_MODEL_907be901b2d44aa29c1212e9b06d6dcf"
      ],
      "layout": "IPY_MODEL_f4c6e2c53c5d4e88966dc1814e91addb"
     }
    },
    "8ed2c1eb04404880b65ba19b2911dc6e": {
     "model_module": "@jupyter-widgets/controls",
     "model_module_version": "1.5.0",
     "model_name": "FloatProgressModel",
     "state": {
      "_dom_classes": [],
      "_model_module": "@jupyter-widgets/controls",
      "_model_module_version": "1.5.0",
      "_model_name": "FloatProgressModel",
      "_view_count": null,
      "_view_module": "@jupyter-widgets/controls",
      "_view_module_version": "1.5.0",
      "_view_name": "ProgressView",
      "bar_style": "success",
      "description": "",
      "description_tooltip": null,
      "layout": "IPY_MODEL_a8b0d7bd54b248ce870295c6314db970",
      "max": 28881,
      "min": 0,
      "orientation": "horizontal",
      "style": "IPY_MODEL_7bc06bb08574449cb1ec6dcd32c53c97",
      "value": 28881
     }
    },
    "907be901b2d44aa29c1212e9b06d6dcf": {
     "model_module": "@jupyter-widgets/controls",
     "model_module_version": "1.5.0",
     "model_name": "HTMLModel",
     "state": {
      "_dom_classes": [],
      "_model_module": "@jupyter-widgets/controls",
      "_model_module_version": "1.5.0",
      "_model_name": "HTMLModel",
      "_view_count": null,
      "_view_module": "@jupyter-widgets/controls",
      "_view_module_version": "1.5.0",
      "_view_name": "HTMLView",
      "description": "",
      "description_tooltip": null,
      "layout": "IPY_MODEL_3208938e7a62489cabb9ccf6ded08979",
      "placeholder": "​",
      "style": "IPY_MODEL_88aeb1281da34b0086701486899ece3c",
      "value": " 5120/? [00:00&lt;00:00, 128674.28it/s]"
     }
    },
    "9d032e0d24d44fe6b7a60071d85cc468": {
     "model_module": "@jupyter-widgets/controls",
     "model_module_version": "1.5.0",
     "model_name": "ProgressStyleModel",
     "state": {
      "_model_module": "@jupyter-widgets/controls",
      "_model_module_version": "1.5.0",
      "_model_name": "ProgressStyleModel",
      "_view_count": null,
      "_view_module": "@jupyter-widgets/base",
      "_view_module_version": "1.2.0",
      "_view_name": "StyleView",
      "bar_color": null,
      "description_width": ""
     }
    },
    "a8b0d7bd54b248ce870295c6314db970": {
     "model_module": "@jupyter-widgets/base",
     "model_module_version": "1.2.0",
     "model_name": "LayoutModel",
     "state": {
      "_model_module": "@jupyter-widgets/base",
      "_model_module_version": "1.2.0",
      "_model_name": "LayoutModel",
      "_view_count": null,
      "_view_module": "@jupyter-widgets/base",
      "_view_module_version": "1.2.0",
      "_view_name": "LayoutView",
      "align_content": null,
      "align_items": null,
      "align_self": null,
      "border": null,
      "bottom": null,
      "display": null,
      "flex": null,
      "flex_flow": null,
      "grid_area": null,
      "grid_auto_columns": null,
      "grid_auto_flow": null,
      "grid_auto_rows": null,
      "grid_column": null,
      "grid_gap": null,
      "grid_row": null,
      "grid_template_areas": null,
      "grid_template_columns": null,
      "grid_template_rows": null,
      "height": null,
      "justify_content": null,
      "justify_items": null,
      "left": null,
      "margin": null,
      "max_height": null,
      "max_width": null,
      "min_height": null,
      "min_width": null,
      "object_fit": null,
      "object_position": null,
      "order": null,
      "overflow": null,
      "overflow_x": null,
      "overflow_y": null,
      "padding": null,
      "right": null,
      "top": null,
      "visibility": null,
      "width": null
     }
    },
    "abefc9215d4f49fab33c592e91058ca6": {
     "model_module": "@jupyter-widgets/base",
     "model_module_version": "1.2.0",
     "model_name": "LayoutModel",
     "state": {
      "_model_module": "@jupyter-widgets/base",
      "_model_module_version": "1.2.0",
      "_model_name": "LayoutModel",
      "_view_count": null,
      "_view_module": "@jupyter-widgets/base",
      "_view_module_version": "1.2.0",
      "_view_name": "LayoutView",
      "align_content": null,
      "align_items": null,
      "align_self": null,
      "border": null,
      "bottom": null,
      "display": null,
      "flex": null,
      "flex_flow": null,
      "grid_area": null,
      "grid_auto_columns": null,
      "grid_auto_flow": null,
      "grid_auto_rows": null,
      "grid_column": null,
      "grid_gap": null,
      "grid_row": null,
      "grid_template_areas": null,
      "grid_template_columns": null,
      "grid_template_rows": null,
      "height": null,
      "justify_content": null,
      "justify_items": null,
      "left": null,
      "margin": null,
      "max_height": null,
      "max_width": null,
      "min_height": null,
      "min_width": null,
      "object_fit": null,
      "object_position": null,
      "order": null,
      "overflow": null,
      "overflow_x": null,
      "overflow_y": null,
      "padding": null,
      "right": null,
      "top": null,
      "visibility": null,
      "width": null
     }
    },
    "aebf754e0e80488aa68d088f31d2fcfc": {
     "model_module": "@jupyter-widgets/controls",
     "model_module_version": "1.5.0",
     "model_name": "DescriptionStyleModel",
     "state": {
      "_model_module": "@jupyter-widgets/controls",
      "_model_module_version": "1.5.0",
      "_model_name": "DescriptionStyleModel",
      "_view_count": null,
      "_view_module": "@jupyter-widgets/base",
      "_view_module_version": "1.2.0",
      "_view_name": "StyleView",
      "description_width": ""
     }
    },
    "afcf90d0b39a486f969e74946007e8fa": {
     "model_module": "@jupyter-widgets/controls",
     "model_module_version": "1.5.0",
     "model_name": "HTMLModel",
     "state": {
      "_dom_classes": [],
      "_model_module": "@jupyter-widgets/controls",
      "_model_module_version": "1.5.0",
      "_model_name": "HTMLModel",
      "_view_count": null,
      "_view_module": "@jupyter-widgets/controls",
      "_view_module_version": "1.5.0",
      "_view_name": "HTMLView",
      "description": "",
      "description_tooltip": null,
      "layout": "IPY_MODEL_59911db33e4f4c86b31830b516c5474d",
      "placeholder": "​",
      "style": "IPY_MODEL_d31e0b08b8814cbbb46b6b45cecda91d",
      "value": ""
     }
    },
    "b4d15ce85ccf4f14b7f2b4f3e45e3005": {
     "model_module": "@jupyter-widgets/controls",
     "model_module_version": "1.5.0",
     "model_name": "FloatProgressModel",
     "state": {
      "_dom_classes": [],
      "_model_module": "@jupyter-widgets/controls",
      "_model_module_version": "1.5.0",
      "_model_name": "FloatProgressModel",
      "_view_count": null,
      "_view_module": "@jupyter-widgets/controls",
      "_view_module_version": "1.5.0",
      "_view_name": "ProgressView",
      "bar_style": "success",
      "description": "",
      "description_tooltip": null,
      "layout": "IPY_MODEL_198800bd211d4e2dabe23b94f7fec31f",
      "max": 1648877,
      "min": 0,
      "orientation": "horizontal",
      "style": "IPY_MODEL_9d032e0d24d44fe6b7a60071d85cc468",
      "value": 1648877
     }
    },
    "b800374ef85e48ffb4d6a43f1ed2adbf": {
     "model_module": "@jupyter-widgets/base",
     "model_module_version": "1.2.0",
     "model_name": "LayoutModel",
     "state": {
      "_model_module": "@jupyter-widgets/base",
      "_model_module_version": "1.2.0",
      "_model_name": "LayoutModel",
      "_view_count": null,
      "_view_module": "@jupyter-widgets/base",
      "_view_module_version": "1.2.0",
      "_view_name": "LayoutView",
      "align_content": null,
      "align_items": null,
      "align_self": null,
      "border": null,
      "bottom": null,
      "display": null,
      "flex": null,
      "flex_flow": null,
      "grid_area": null,
      "grid_auto_columns": null,
      "grid_auto_flow": null,
      "grid_auto_rows": null,
      "grid_column": null,
      "grid_gap": null,
      "grid_row": null,
      "grid_template_areas": null,
      "grid_template_columns": null,
      "grid_template_rows": null,
      "height": null,
      "justify_content": null,
      "justify_items": null,
      "left": null,
      "margin": null,
      "max_height": null,
      "max_width": null,
      "min_height": null,
      "min_width": null,
      "object_fit": null,
      "object_position": null,
      "order": null,
      "overflow": null,
      "overflow_x": null,
      "overflow_y": null,
      "padding": null,
      "right": null,
      "top": null,
      "visibility": null,
      "width": null
     }
    },
    "b80d8b459d9243108e8beb39e2b6d518": {
     "model_module": "@jupyter-widgets/controls",
     "model_module_version": "1.5.0",
     "model_name": "HBoxModel",
     "state": {
      "_dom_classes": [],
      "_model_module": "@jupyter-widgets/controls",
      "_model_module_version": "1.5.0",
      "_model_name": "HBoxModel",
      "_view_count": null,
      "_view_module": "@jupyter-widgets/controls",
      "_view_module_version": "1.5.0",
      "_view_name": "HBoxView",
      "box_style": "",
      "children": [
       "IPY_MODEL_afcf90d0b39a486f969e74946007e8fa",
       "IPY_MODEL_b4d15ce85ccf4f14b7f2b4f3e45e3005",
       "IPY_MODEL_0def02a4b6b44b50b31c1ca65113273e"
      ],
      "layout": "IPY_MODEL_f2e0e78151d74529b39e524ad5358fa2"
     }
    },
    "c029224c67d9467796c48103b9416d41": {
     "model_module": "@jupyter-widgets/controls",
     "model_module_version": "1.5.0",
     "model_name": "ProgressStyleModel",
     "state": {
      "_model_module": "@jupyter-widgets/controls",
      "_model_module_version": "1.5.0",
      "_model_name": "ProgressStyleModel",
      "_view_count": null,
      "_view_module": "@jupyter-widgets/base",
      "_view_module_version": "1.2.0",
      "_view_name": "StyleView",
      "bar_color": null,
      "description_width": ""
     }
    },
    "d31e0b08b8814cbbb46b6b45cecda91d": {
     "model_module": "@jupyter-widgets/controls",
     "model_module_version": "1.5.0",
     "model_name": "DescriptionStyleModel",
     "state": {
      "_model_module": "@jupyter-widgets/controls",
      "_model_module_version": "1.5.0",
      "_model_name": "DescriptionStyleModel",
      "_view_count": null,
      "_view_module": "@jupyter-widgets/base",
      "_view_module_version": "1.2.0",
      "_view_name": "StyleView",
      "description_width": ""
     }
    },
    "d7c9f649fc2b4646af0271ea1aff9b5d": {
     "model_module": "@jupyter-widgets/base",
     "model_module_version": "1.2.0",
     "model_name": "LayoutModel",
     "state": {
      "_model_module": "@jupyter-widgets/base",
      "_model_module_version": "1.2.0",
      "_model_name": "LayoutModel",
      "_view_count": null,
      "_view_module": "@jupyter-widgets/base",
      "_view_module_version": "1.2.0",
      "_view_name": "LayoutView",
      "align_content": null,
      "align_items": null,
      "align_self": null,
      "border": null,
      "bottom": null,
      "display": null,
      "flex": null,
      "flex_flow": null,
      "grid_area": null,
      "grid_auto_columns": null,
      "grid_auto_flow": null,
      "grid_auto_rows": null,
      "grid_column": null,
      "grid_gap": null,
      "grid_row": null,
      "grid_template_areas": null,
      "grid_template_columns": null,
      "grid_template_rows": null,
      "height": null,
      "justify_content": null,
      "justify_items": null,
      "left": null,
      "margin": null,
      "max_height": null,
      "max_width": null,
      "min_height": null,
      "min_width": null,
      "object_fit": null,
      "object_position": null,
      "order": null,
      "overflow": null,
      "overflow_x": null,
      "overflow_y": null,
      "padding": null,
      "right": null,
      "top": null,
      "visibility": null,
      "width": null
     }
    },
    "db58ad6fd4084d4986d33cae6767d98d": {
     "model_module": "@jupyter-widgets/controls",
     "model_module_version": "1.5.0",
     "model_name": "ProgressStyleModel",
     "state": {
      "_model_module": "@jupyter-widgets/controls",
      "_model_module_version": "1.5.0",
      "_model_name": "ProgressStyleModel",
      "_view_count": null,
      "_view_module": "@jupyter-widgets/base",
      "_view_module_version": "1.2.0",
      "_view_name": "StyleView",
      "bar_color": null,
      "description_width": ""
     }
    },
    "e38e6429a3ee4b7b9b9e2b0eabd09c5e": {
     "model_module": "@jupyter-widgets/base",
     "model_module_version": "1.2.0",
     "model_name": "LayoutModel",
     "state": {
      "_model_module": "@jupyter-widgets/base",
      "_model_module_version": "1.2.0",
      "_model_name": "LayoutModel",
      "_view_count": null,
      "_view_module": "@jupyter-widgets/base",
      "_view_module_version": "1.2.0",
      "_view_name": "LayoutView",
      "align_content": null,
      "align_items": null,
      "align_self": null,
      "border": null,
      "bottom": null,
      "display": null,
      "flex": null,
      "flex_flow": null,
      "grid_area": null,
      "grid_auto_columns": null,
      "grid_auto_flow": null,
      "grid_auto_rows": null,
      "grid_column": null,
      "grid_gap": null,
      "grid_row": null,
      "grid_template_areas": null,
      "grid_template_columns": null,
      "grid_template_rows": null,
      "height": null,
      "justify_content": null,
      "justify_items": null,
      "left": null,
      "margin": null,
      "max_height": null,
      "max_width": null,
      "min_height": null,
      "min_width": null,
      "object_fit": null,
      "object_position": null,
      "order": null,
      "overflow": null,
      "overflow_x": null,
      "overflow_y": null,
      "padding": null,
      "right": null,
      "top": null,
      "visibility": null,
      "width": null
     }
    },
    "f2e0e78151d74529b39e524ad5358fa2": {
     "model_module": "@jupyter-widgets/base",
     "model_module_version": "1.2.0",
     "model_name": "LayoutModel",
     "state": {
      "_model_module": "@jupyter-widgets/base",
      "_model_module_version": "1.2.0",
      "_model_name": "LayoutModel",
      "_view_count": null,
      "_view_module": "@jupyter-widgets/base",
      "_view_module_version": "1.2.0",
      "_view_name": "LayoutView",
      "align_content": null,
      "align_items": null,
      "align_self": null,
      "border": null,
      "bottom": null,
      "display": null,
      "flex": null,
      "flex_flow": null,
      "grid_area": null,
      "grid_auto_columns": null,
      "grid_auto_flow": null,
      "grid_auto_rows": null,
      "grid_column": null,
      "grid_gap": null,
      "grid_row": null,
      "grid_template_areas": null,
      "grid_template_columns": null,
      "grid_template_rows": null,
      "height": null,
      "justify_content": null,
      "justify_items": null,
      "left": null,
      "margin": null,
      "max_height": null,
      "max_width": null,
      "min_height": null,
      "min_width": null,
      "object_fit": null,
      "object_position": null,
      "order": null,
      "overflow": null,
      "overflow_x": null,
      "overflow_y": null,
      "padding": null,
      "right": null,
      "top": null,
      "visibility": null,
      "width": null
     }
    },
    "f42358616e77439f9f8a7c0c4c2cbf38": {
     "model_module": "@jupyter-widgets/controls",
     "model_module_version": "1.5.0",
     "model_name": "FloatProgressModel",
     "state": {
      "_dom_classes": [],
      "_model_module": "@jupyter-widgets/controls",
      "_model_module_version": "1.5.0",
      "_model_name": "FloatProgressModel",
      "_view_count": null,
      "_view_module": "@jupyter-widgets/controls",
      "_view_module_version": "1.5.0",
      "_view_name": "ProgressView",
      "bar_style": "success",
      "description": "",
      "description_tooltip": null,
      "layout": "IPY_MODEL_60cb991c13504805861b2bcb930d09b9",
      "max": 9912422,
      "min": 0,
      "orientation": "horizontal",
      "style": "IPY_MODEL_c029224c67d9467796c48103b9416d41",
      "value": 9912422
     }
    },
    "f4c6e2c53c5d4e88966dc1814e91addb": {
     "model_module": "@jupyter-widgets/base",
     "model_module_version": "1.2.0",
     "model_name": "LayoutModel",
     "state": {
      "_model_module": "@jupyter-widgets/base",
      "_model_module_version": "1.2.0",
      "_model_name": "LayoutModel",
      "_view_count": null,
      "_view_module": "@jupyter-widgets/base",
      "_view_module_version": "1.2.0",
      "_view_name": "LayoutView",
      "align_content": null,
      "align_items": null,
      "align_self": null,
      "border": null,
      "bottom": null,
      "display": null,
      "flex": null,
      "flex_flow": null,
      "grid_area": null,
      "grid_auto_columns": null,
      "grid_auto_flow": null,
      "grid_auto_rows": null,
      "grid_column": null,
      "grid_gap": null,
      "grid_row": null,
      "grid_template_areas": null,
      "grid_template_columns": null,
      "grid_template_rows": null,
      "height": null,
      "justify_content": null,
      "justify_items": null,
      "left": null,
      "margin": null,
      "max_height": null,
      "max_width": null,
      "min_height": null,
      "min_width": null,
      "object_fit": null,
      "object_position": null,
      "order": null,
      "overflow": null,
      "overflow_x": null,
      "overflow_y": null,
      "padding": null,
      "right": null,
      "top": null,
      "visibility": null,
      "width": null
     }
    },
    "fd4bc84eebc84d3fa6f693a6ae21ff59": {
     "model_module": "@jupyter-widgets/controls",
     "model_module_version": "1.5.0",
     "model_name": "DescriptionStyleModel",
     "state": {
      "_model_module": "@jupyter-widgets/controls",
      "_model_module_version": "1.5.0",
      "_model_name": "DescriptionStyleModel",
      "_view_count": null,
      "_view_module": "@jupyter-widgets/base",
      "_view_module_version": "1.2.0",
      "_view_name": "StyleView",
      "description_width": ""
     }
    }
   }
  }
 },
 "nbformat": 4,
 "nbformat_minor": 5
}
