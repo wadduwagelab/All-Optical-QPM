{
 "cells": [
  {
   "cell_type": "markdown",
   "id": "e1a1313a-a506-4c76-8c64-43c4127a901d",
   "metadata": {},
   "source": [
    "<a href=\"https://colab.research.google.com/github/Bantami/All-Optical-QPM/blob/main/Colab/GPC_baseline_inference_colab.ipynb\" target=\"_parent\"><img src=\"https://colab.research.google.com/assets/colab-badge.svg\" alt=\"Open In Colab\"/></a>"
   ]
  },
  {
   "cell_type": "markdown",
   "id": "e168bf88-33a8-46ca-9a09-347124df4143",
   "metadata": {},
   "source": [
    "### Colab Setting up Scripts\n",
    "\n",
    "\n",
    "*   Downloading repository, dataset and models\n",
    "*   Install pip packages\n"
   ]
  },
  {
   "cell_type": "code",
   "execution_count": null,
   "id": "19613c79-ddf0-4275-9230-f532cf508738",
   "metadata": {},
   "outputs": [],
   "source": [
    "!git clone https://github.com/Bantami/All-Optical-QPM.git\n",
    "\n",
    "!chmod 755 All-Optical-QPM/colab_setup.sh\n",
    "!All-Optical-QPM/colab_setup.sh\n",
    "!mkdir results"
   ]
  },
  {
   "cell_type": "code",
   "execution_count": null,
   "id": "ffec3787-9d0e-4e0f-8fe9-ab71063668eb",
   "metadata": {},
   "outputs": [],
   "source": [
    "import sys\n",
    "sys.path.append('All-Optical-QPM')\n",
    "\n",
    "import torch\n",
    "import numpy as np\n",
    "import matplotlib.pyplot as plt\n",
    "import cv2\n",
    "import os\n",
    "import shutil\n",
    "\n",
    "from torchvision.utils import make_grid\n",
    "from mpl_toolkits.axes_grid1 import make_axes_locatable\n",
    "\n",
    "from modules.dataloaders import *\n",
    "from modules.eval_metrics import *"
   ]
  },
  {
   "cell_type": "markdown",
   "id": "7b5b4a7b-9893-4bb4-9588-f7952872e37e",
   "metadata": {
    "tags": []
   },
   "source": [
    "### Required custom functions:"
   ]
  },
  {
   "cell_type": "code",
   "execution_count": null,
   "id": "80de48a2-3684-432f-be1a-9cb8d0c11be1",
   "metadata": {},
   "outputs": [],
   "source": [
    "def circ(n_neurons_input, neuron_size, delta_fr,device='cpu'):\n",
    "    '''\n",
    "        Function to obtain the filter mask with the central region\n",
    "        \n",
    "            Args:\n",
    "                n_neurons_input : Number of neurons in the spatial domain input | int \n",
    "                neuron_size     : Size of a neuron in the spatial domain | float \n",
    "                delta_fr        : Radius of the central region of the filter in the frequency domain | float\n",
    "                device          : Device to do the inference on\n",
    "            Returns:\n",
    "                central_filter  : Filter mask | torch.Tensor     \n",
    "    '''\n",
    "\n",
    "    dx= neuron_size\n",
    "    N= n_neurons_input\n",
    "    \n",
    "    # Creating the fx, fy grid\n",
    "    fx = torch.arange(-1/(2*dx),1/(2*dx),1/(N*dx)).to(device) \n",
    "    fx = torch.tile(fx, (1,N)).view(N,N)\n",
    "    fy = torch.arange(1/(2*dx),-1/(2*dx),-1/(N*dx)).view(N,1).to(device)\n",
    "    fy = torch.tile(fy, (1,N)).view(N,N)\n",
    "    circle = ((delta_fr**2) - (abs(fx)**2 + abs(fy)**2))+100\n",
    "    \n",
    "    # central_filter = circle.clamp(0, 1)\n",
    "    central_filter = torch.sigmoid(circle)\n",
    "\n",
    "    return central_filter\n",
    "\n",
    "def input_circle(n_i,sf, circle = False, device='cpu'):\n",
    "    '''\n",
    "        Function to obtain a circular mask to apply on the input\n",
    "    \n",
    "            Args:\n",
    "                n_i    : Number of neurons in the spatial domain input | int \n",
    "                sf     : Shrink factor | int \n",
    "                circle : Indicates if a circular mask is required | bool\n",
    "                device : The device on which the model runs\n",
    "\n",
    "            Returns:\n",
    "                circ   : Circular mask for the input | torch.Tensor\n",
    "    '''\n",
    "    \n",
    "    if circle:\n",
    "        rc = (n_i//2)//sf # Radius of the input region of interest\n",
    "        \n",
    "        # x,y grid\n",
    "        xc = torch.arange(-n_i//2,n_i//2,1) \n",
    "        xc = torch.tile(xc, (1,n_i)).view(n_i,n_i).to(torch.cfloat)\n",
    "        yc = torch.arange(n_i//2,-n_i//2,-1).view(n_i,1)\n",
    "        yc = torch.tile(yc, (1,n_i)).view(n_i,n_i).to(torch.cfloat)\n",
    "\n",
    "        circ = (abs(xc)**2 + abs(yc)**2 <= (rc)**2).to(torch.float32).view(1,n_i,n_i).to(device)\n",
    "    else:\n",
    "        circ = torch.ones(1,n_i,n_i).to(device)\n",
    "    \n",
    "    return circ\n",
    "\n",
    "def make_circular(img,device='cpu'):\n",
    "    '''\n",
    "        Function to obtain a circular mask to apply on the filter\n",
    "    \n",
    "            Args:\n",
    "                img    : The filter | torch.Tensor\n",
    "\n",
    "            Returns:\n",
    "                circ   : Circular mask for the filter | torch.Tensor\n",
    "    '''\n",
    "    \n",
    "    img_size = img.shape[0]\n",
    "    shrinkFactor = 1\n",
    "\n",
    "    rc = (img_size//2)//shrinkFactor\n",
    "    xc = torch.arange(-img_size//2,img_size//2,1) \n",
    "    xc = torch.tile(xc, (1,img_size)).view(img_size,img_size).to(torch.cfloat)\n",
    "\n",
    "    yc = torch.arange(img_size//2,-img_size//2,-1).view(img_size,1)\n",
    "    yc = torch.tile(yc, (1,img_size)).view(img_size,img_size).to(torch.cfloat)\n",
    "\n",
    "    circ = (abs(xc)**2 + abs(yc)**2 <= (rc)**2).to(torch.float32).view(1,img_size,img_size).to(device)\n",
    "\n",
    "    return circ.detach().cpu()"
   ]
  },
  {
   "cell_type": "code",
   "execution_count": null,
   "id": "00683524-2a96-4264-9e5c-9a4248f6285d",
   "metadata": {},
   "outputs": [],
   "source": [
    "def inference_loop(cfg, experiment, dataset_debug_opt, max_angle, data_loader):\n",
    "    '''\n",
    "        Function to run the test set and plot results\n",
    "        \n",
    "            Args:\n",
    "                cfg               : Configurations dictionary\n",
    "                experiment        : The filter configurations resulted from the search experiments\n",
    "                dataset_debug_opt : Supporting option to clip the dataset phase values\n",
    "                max_angle         : The maximum phase value that can be set in the dataset\n",
    "                data_loader       : The name of the dataloader\n",
    "    '''\n",
    "    \n",
    "    cfg['dataset_debug_opts'] = dataset_debug_opt\n",
    "    cfg['angle_max'] = max_angle\n",
    "    \n",
    "    A = torch.tensor(experiment[0])\n",
    "    B = torch.tensor(experiment[1])\n",
    "    theta = torch.tensor(experiment[2])\n",
    "    dfr = torch.tensor(experiment[3])\n",
    "    output_scale = torch.tensor(experiment[4])\n",
    "    \n",
    "    img_size = cfg['img_size']\n",
    "    shrinkFactor = cfg['shrink_factor']\n",
    "    neuron_size = cfg['neuron_size']\n",
    "    device = cfg['device']\n",
    "    angle_max = eval(max_angle)\n",
    "\n",
    "    H = A + (B * torch.exp(1j * theta) - A)*circ(img_size, cfg['neuron_size'], dfr,device)\n",
    "    mask = make_circular(H.abs()).to(device)[0]\n",
    "    H = H*mask\n",
    "    \n",
    "    ssim11_rd = []\n",
    "\n",
    "    if(shrinkFactor!=1):\n",
    "        # To obtain the starting position and ending position of the original image within the padded image\n",
    "        csize = int(img_size/shrinkFactor)\n",
    "        spos  = int((img_size - csize)/2)\n",
    "        epos  = spos + csize\n",
    "    else:\n",
    "        spos = 0\n",
    "        epos = img_size\n",
    "\n",
    "    incircle = input_circle(img_size, shrinkFactor, circle = True, device=device) # Creating a circular mask to apply on the input\n",
    "\n",
    "    _, _, test_loader = eval(data_loader)(img_size, \n",
    "                             cfg['train_batch_size'], \n",
    "                             task_type= 'phase2intensity',\n",
    "                             shrinkFactor = shrinkFactor,\n",
    "                             cfg = cfg)\n",
    "\n",
    "    for idx, (x, y) in enumerate(test_loader):\n",
    "\n",
    "        ground_truth = x[:,0].to(device) * incircle # Remove channel dimension\n",
    "        X = torch.fft.fftshift(torch.fft.fft2(ground_truth)) # Obtaining the Fourier transform of the input\n",
    "        filtered = X*H.unsqueeze(dim=0).to(device) # Applying the GPC filter\n",
    "        out = torch.fft.ifft2(torch.fft.ifftshift(filtered)).to(torch.complex64) # Reconstructed image\n",
    "\n",
    "        out = out[:,spos:epos,spos:epos] # Crop the reconstructed image\n",
    "\n",
    "        if data_loader == 'get_qpm_np_dataloaders' or data_loader == 'get_bacteria_dataloaders':\n",
    "            # CLIP ANGLE TO -> [0, angle_max]\n",
    "            y = torch.clip(y, min= 0, max= angle_max).to(device) * incircle # y will have the original phase image\n",
    "            gt = y[:,0].to(device)[:,spos:epos,spos:epos] /angle_max # Crop and normalize the groundtruth image\n",
    "            gt_angle = gt\n",
    "            ground_truth = ground_truth[:,spos:epos,spos:epos].abs() + 1j*gt # Preparing the groundtruth in a suitable format for the plot functions\n",
    "        else:\n",
    "            ground_truth = ground_truth[:,spos:epos,spos:epos] # Crop the groundtruth image\n",
    "            gt_angle = (ground_truth.angle()%(2*np.pi))/angle_max\n",
    "            gt_abs = ground_truth.abs()\n",
    "            ground_truth = gt_abs+1j*gt_angle\n",
    "\n",
    "        pred_out= output_scale * (out.abs()**2) * incircle[:,spos:epos,spos:epos]\n",
    "\n",
    "        ssim11_rd.append(ssim_pytorch(pred_out, gt_angle, k= 11, range_independent = False))\n",
    "\n",
    "    print(\"========\\nMean SSIM = \", np.mean(ssim11_rd))\n",
    "    \n",
    "    if data_loader == 'get_qpm_np_dataloaders':\n",
    "        s = 6\n",
    "        e = 10\n",
    "    else:\n",
    "        s = 10\n",
    "        e = 14\n",
    "        \n",
    "    pred_img_set= pred_out[s:e]/output_scale # .unsqueeze(dim= 1) when making the grid\n",
    "    gt_img_set= ground_truth[s:e] # .unsqueeze(dim= 1) when making the grid\n",
    "    \n",
    "    gt_angle = gt_img_set.detach().cpu().imag\n",
    "    gt_abs = gt_img_set.detach().cpu().real\n",
    "        \n",
    "    if data_loader == 'get_mnist_dataloaders':\n",
    "        pred_img = pred_img_set[0]\n",
    "        gt_angle = gt_angle[0]\n",
    "        gt_abs = gt_abs[0]\n",
    "    elif data_loader == 'get_qpm_np_dataloaders':\n",
    "        pred_img = pred_img_set[0]\n",
    "        gt_angle = gt_angle[0]\n",
    "        gt_abs = gt_abs[0]\n",
    "    elif data_loader == 'get_bacteria_dataloaders':\n",
    "        pred_img = pred_img_set[3]\n",
    "        gt_angle = gt_angle[3]\n",
    "        gt_abs = gt_abs[3]\n",
    "\n",
    "    plt.figure(figsize=(4,4))\n",
    "    plt.title(\"Grountruth Phase\")\n",
    "    plt.imshow(gt_angle.numpy(),vmin=0)\n",
    "    plt.colorbar()\n",
    "\n",
    "\n",
    "    plt.figure(figsize=(4,4))\n",
    "    plt.imshow(pred_img.abs().detach().cpu().numpy(),vmin=0)\n",
    "    plt.colorbar()\n",
    "    plt.title('Reconstructed : Intensity')\n"
   ]
  },
  {
   "cell_type": "markdown",
   "id": "b1ba7d2b-a405-469a-91a2-d24e97cddc42",
   "metadata": {
    "tags": []
   },
   "source": [
    "### Amp+Phase and Phase GPC filter configurations for each dataset are included in the 'experiments' dictionary in the following format:\n",
    "\n",
    "``` 'dataset_type' : [A, B, theta, dfr, output_scale] ```\n",
    "\n",
    "* **dataset_type** : The name of the dataset along with the filter type where applicable.\n",
    "\n",
    "> _MNIST_pi_ - MNIST [0, $\\pi$]\n",
    "\n",
    "> _MNIST_2pi_ - MNIST [0, 2$\\pi$]\n",
    "\n",
    "> _HeLa_pi_ - HeLA [0, $\\pi$]\n",
    "\n",
    "> _HeLa_2pi_ - HeLA [0, 2$\\pi$]\n",
    "\n",
    "> _Bacteria_ - Bacteria\n",
    "\n",
    "> The models for the different datasets in the phase-only filter configuration has a suffix **_phase** to each dataset name\n",
    "* **A**: Amplitude coefficient of the transmission coefficients in the outer region of the GPC filter\n",
    "* **B**: Amplitude coefficient of the transmission coefficients in the central region of the GPC filter\n",
    "* **theta**: The applied phase shift to the light falling onto the central region of the filter\n",
    "* **dfr**: Radius of the central region of the filter in the fourier plane\n",
    "* **output_scale**: Scaling factor applied to the reconstructed image\n",
    "\n",
    "### Keywords in the configs dictionary:\n",
    "\n",
    "* **device**: The device the model runs on\n",
    "* **lambda_**: Wavelength of the light (m)\n",
    "* **neuron_size**: Size of an element of the input image (m)\n",
    "* **img_size**: Size of the input image after padding\n",
    "* **shrink_factor**: The padding factor of the input image. \n",
    "* **n_layers**: Number of optical layers in the model\n",
    "* **train_batch_size**: Training batch size\n",
    "* **torch_seed**: Pytorch seed for rand functions\n",
    "* **task_type**: Indicates phase-to-intensity conversion task. Defaults to 'phase2intensity'"
   ]
  },
  {
   "cell_type": "code",
   "execution_count": null,
   "id": "11ade5d6-a56b-46f1-a77a-b3dffc44c6d4",
   "metadata": {
    "tags": []
   },
   "outputs": [],
   "source": [
    "# Amp+Phase and Phase GPC filter configurations for each dataset\n",
    "experiment = {\n",
    "    'MNIST_pi': [0.2640, 0.9652, 2.8833, 37037.7695, 3.7200],\n",
    "    'MNIST_pi_phase': [1.0, 1.0, 2.6852, 74075.5391, 0.235],\n",
    "    'MNIST_2pi': [0.164,0.536,3.2093,37037.7695,8.2],\n",
    "    'MNIST_2pi_phase': [1.0, 1.0, 3.2507, 61729.6133, 0.205],\n",
    "    'HeLa_pi': [0.5548, 0.9747, 1.5568, 53371.5, 3.3567],\n",
    "    'HeLa_pi_phase': [1.0, 1.0, 1.5475, 51433.4219, 1.6629],\n",
    "    'HeLa_2pi': [0.5001,0.9843, 1.8024, 53371.5, 3.6208],\n",
    "    'HeLa_2pi_phase': [1.0,1.0, 1.8291, 61729.6133, 1.],\n",
    "    'Bacteria': [0.16, 0.96, 3.0229, 24691.8457, 8.44],\n",
    "    'Bacteria_phase': [1.0, 1.0, 2.9502, 51433.4219, 0.1934]\n",
    "}\n",
    "\n",
    "cfg = {\n",
    "    'device': 'cuda:0', # cpu\n",
    "\n",
    "    'lambda_': 6.328e-07,\n",
    "    'neuron_size': 3.164e-07,\n",
    "    'img_size': 256,\n",
    "    'shrink_factor': 8,\n",
    "    'n_layers': 1,\n",
    "\n",
    "    'train_batch_size': 32, # 15\n",
    "    'torch_seed': 10,\n",
    "\n",
    "    'task_type': 'phase2intensity',\n",
    "}    "
   ]
  },
  {
   "cell_type": "markdown",
   "id": "7498afc9-dff9-4900-9404-5f14ccd246cb",
   "metadata": {},
   "source": [
    "# Amp+Phase GPC"
   ]
  },
  {
   "cell_type": "markdown",
   "id": "f6a57f4e-43f5-4c72-ab23-7f9d5a2bd4d4",
   "metadata": {},
   "source": [
    "#### MNIST "
   ]
  },
  {
   "cell_type": "code",
   "execution_count": null,
   "id": "f751effe-7a78-4d1e-bd25-478407811041",
   "metadata": {},
   "outputs": [],
   "source": [
    "inference_loop(cfg,\n",
    "                experiment['MNIST_pi'],\n",
    "                'clip_phase',\n",
    "                'np.pi',\n",
    "                'get_mnist_dataloaders')"
   ]
  },
  {
   "cell_type": "markdown",
   "id": "b6884da0-c5fd-4b3c-9e5c-9cd0d2399ae1",
   "metadata": {},
   "source": [
    "#### MNIST [0, 2$\\pi$]"
   ]
  },
  {
   "cell_type": "code",
   "execution_count": null,
   "id": "c9a860a0-ec18-4082-a55c-4041dbda922e",
   "metadata": {},
   "outputs": [],
   "source": [
    "inference_loop(cfg,\n",
    "                experiment['MNIST_2pi'],\n",
    "                'clip_phase',\n",
    "                '2*np.pi',\n",
    "                'get_mnist_dataloaders')"
   ]
  },
  {
   "cell_type": "markdown",
   "id": "960fe1a1-2bf9-461a-b4a8-e53f30768d04",
   "metadata": {},
   "source": [
    "#### HeLa [0, $\\pi$]"
   ]
  },
  {
   "cell_type": "code",
   "execution_count": null,
   "id": "d5e69b4e-e5bc-49b2-86ff-cdcd43e62ea7",
   "metadata": {},
   "outputs": [],
   "source": [
    "inference_loop(cfg,\n",
    "                experiment['HeLa_pi'],\n",
    "                'clip_phase@phase_set_pi',\n",
    "                'np.pi',\n",
    "                'get_qpm_np_dataloaders')"
   ]
  },
  {
   "cell_type": "markdown",
   "id": "575d2dbc-6251-49e6-80d5-5799370e0426",
   "metadata": {},
   "source": [
    "#### HeLa [0, 2$\\pi$]"
   ]
  },
  {
   "cell_type": "code",
   "execution_count": null,
   "id": "0b2cbcda-fd03-419f-873f-93f79ed7f20e",
   "metadata": {},
   "outputs": [],
   "source": [
    "inference_loop(cfg,\n",
    "                experiment['HeLa_2pi'],\n",
    "                'clip_phase',\n",
    "                '2*np.pi',\n",
    "                'get_qpm_np_dataloaders')"
   ]
  },
  {
   "cell_type": "markdown",
   "id": "90069e27-b8cf-4e68-962d-ef7a1a03a930",
   "metadata": {},
   "source": [
    "#### Bacteria"
   ]
  },
  {
   "cell_type": "code",
   "execution_count": null,
   "id": "1094714f-120f-47fa-bb6b-0202443bc268",
   "metadata": {},
   "outputs": [],
   "source": [
    "inference_loop(cfg,\n",
    "                experiment['Bacteria'],\n",
    "                'clip_phase',\n",
    "                '2*np.pi',\n",
    "                'get_bacteria_dataloaders')"
   ]
  },
  {
   "cell_type": "markdown",
   "id": "d089a672-87d3-49f5-971e-fe0c4a25933b",
   "metadata": {},
   "source": [
    "# Phase GPC"
   ]
  },
  {
   "cell_type": "markdown",
   "id": "eed0ac53-7949-41a1-bb13-1b486881df6e",
   "metadata": {},
   "source": [
    "#### MNIST "
   ]
  },
  {
   "cell_type": "code",
   "execution_count": null,
   "id": "c06db409-2945-4c24-a45c-327c3038fac9",
   "metadata": {},
   "outputs": [],
   "source": [
    "inference_loop(cfg,\n",
    "                experiment['MNIST_pi_phase'],\n",
    "                'clip_phase',\n",
    "                'np.pi',\n",
    "                'get_mnist_dataloaders')"
   ]
  },
  {
   "cell_type": "markdown",
   "id": "345f1522-4bad-4f87-be08-3b03228c7dfc",
   "metadata": {},
   "source": [
    "#### MNIST [0, 2$\\pi$]"
   ]
  },
  {
   "cell_type": "code",
   "execution_count": null,
   "id": "7979dc89-b7c2-4591-bb7f-38e1fc17fc04",
   "metadata": {},
   "outputs": [],
   "source": [
    "inference_loop(cfg,\n",
    "                experiment['MNIST_2pi_phase'],\n",
    "                'clip_phase',\n",
    "                '2*np.pi',\n",
    "                'get_mnist_dataloaders')"
   ]
  },
  {
   "cell_type": "markdown",
   "id": "a3ba4086-3b51-4fb8-a544-4fbd2c215a9e",
   "metadata": {},
   "source": [
    "#### HeLa [0, $\\pi$]"
   ]
  },
  {
   "cell_type": "code",
   "execution_count": null,
   "id": "8a108574-cd06-42c6-ac32-d4d59aa791e1",
   "metadata": {},
   "outputs": [],
   "source": [
    "inference_loop(cfg,\n",
    "                experiment['HeLa_pi_phase'],\n",
    "                'clip_phase@phase_set_pi',\n",
    "                'np.pi',\n",
    "                'get_qpm_np_dataloaders')"
   ]
  },
  {
   "cell_type": "markdown",
   "id": "1fd01ba1-514b-453e-b329-09b6c04d6c28",
   "metadata": {},
   "source": [
    "#### HeLa [0, 2$\\pi$]"
   ]
  },
  {
   "cell_type": "code",
   "execution_count": null,
   "id": "32f26fa7-3006-4464-a67e-1dbbd2e93e89",
   "metadata": {},
   "outputs": [],
   "source": [
    "inference_loop(cfg,\n",
    "                experiment['HeLa_2pi_phase'],\n",
    "                'clip_phase',\n",
    "                '2*np.pi',\n",
    "                'get_qpm_np_dataloaders')"
   ]
  },
  {
   "cell_type": "markdown",
   "id": "bfd34e6d-ed50-4e46-ac02-97c11ac13146",
   "metadata": {},
   "source": [
    "#### Bacteria"
   ]
  },
  {
   "cell_type": "code",
   "execution_count": null,
   "id": "69e53235-fdb4-4669-9ba7-521e2a018b44",
   "metadata": {},
   "outputs": [],
   "source": [
    "inference_loop(cfg,\n",
    "                experiment['Bacteria_phase'],\n",
    "                'clip_phase',\n",
    "                '2*np.pi',\n",
    "                'get_bacteria_dataloaders')"
   ]
  }
 ],
 "metadata": {
  "kernelspec": {
   "display_name": "FYPD2NN",
   "language": "python",
   "name": "fypd2nn"
  },
  "language_info": {
   "codemirror_mode": {
    "name": "ipython",
    "version": 3
   },
   "file_extension": ".py",
   "mimetype": "text/x-python",
   "name": "python",
   "nbconvert_exporter": "python",
   "pygments_lexer": "ipython3",
   "version": "3.6.13"
  }
 },
 "nbformat": 4,
 "nbformat_minor": 5
}
